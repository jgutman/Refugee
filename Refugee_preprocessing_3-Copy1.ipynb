{
 "cells": [
  {
   "cell_type": "markdown",
   "metadata": {},
   "source": [
    "# Load and categorize the code"
   ]
  },
  {
   "cell_type": "code",
   "execution_count": 3,
   "metadata": {
    "collapsed": true
   },
   "outputs": [],
   "source": [
    "import pandas as pd\n",
    "import numpy as np\n",
    "\n",
    "import os\n",
    "import datetime\n",
    "\n",
    "from sklearn import preprocessing\n",
    "from matplotlib import pyplot as plt\n"
   ]
  },
  {
   "cell_type": "code",
   "execution_count": 4,
   "metadata": {
    "collapsed": false
   },
   "outputs": [],
   "source": [
    "# Large dataset, this line can take a little bit of time to run (about 30 seconds)\n",
    "raw_data = pd.read_csv(os.getcwd() + '/asylum_clean_chicago_eoirstrictconsec3_1.csv', low_memory=False)"
   ]
  },
  {
   "cell_type": "code",
   "execution_count": 7,
   "metadata": {
    "collapsed": false
   },
   "outputs": [
    {
     "data": {
      "text/plain": [
       "166"
      ]
     },
     "execution_count": 7,
     "metadata": {},
     "output_type": "execute_result"
    }
   ],
   "source": [
    "\n",
    "missing = np.sum(pd.isnull(raw_data))\n",
    "len(missing[missing > 0])"
   ]
  },
  {
   "cell_type": "code",
   "execution_count": 4,
   "metadata": {
    "collapsed": false
   },
   "outputs": [
    {
     "data": {
      "text/plain": [
       "264"
      ]
     },
     "execution_count": 4,
     "metadata": {},
     "output_type": "execute_result"
    }
   ],
   "source": [
    "len(raw_data.columns)"
   ]
  },
  {
   "cell_type": "code",
   "execution_count": 7,
   "metadata": {
    "collapsed": false
   },
   "outputs": [
    {
     "data": {
      "text/plain": [
       "40"
      ]
     },
     "execution_count": 7,
     "metadata": {},
     "output_type": "execute_result"
    }
   ],
   "source": [
    "len(pd.unique(raw_data.year))\n"
   ]
  },
  {
   "cell_type": "code",
   "execution_count": 83,
   "metadata": {
    "collapsed": false
   },
   "outputs": [],
   "source": [
    "imputedL1 = pd.read_csv(os.getcwd() + '/L1grant2_imputed.csv')\n",
    "imputedL2 = pd.read_csv(os.getcwd() + '/L2grant2_imputed.csv')\n",
    "countries = pd.read_csv(os.getcwd() + '/country_data_frame.csv')"
   ]
  },
  {
   "cell_type": "code",
   "execution_count": 55,
   "metadata": {
    "collapsed": true
   },
   "outputs": [],
   "source": [
    "countries = pd.read_csv(os.getcwd() + '/country_data_frame.csv')"
   ]
  },
  {
   "cell_type": "code",
   "execution_count": 68,
   "metadata": {
    "collapsed": false
   },
   "outputs": [
    {
     "data": {
      "text/plain": [
       "47"
      ]
     },
     "execution_count": 68,
     "metadata": {},
     "output_type": "execute_result"
    }
   ],
   "source": [
    "len(countries.columns)-1"
   ]
  },
  {
   "cell_type": "code",
   "execution_count": 70,
   "metadata": {
    "collapsed": false
   },
   "outputs": [
    {
     "data": {
      "text/plain": [
       "0.86848097905810362"
      ]
     },
     "execution_count": 70,
     "metadata": {},
     "output_type": "execute_result"
    }
   ],
   "source": [
    "np.mean(raw_data[\"numinfamily\"] == 1)"
   ]
  },
  {
   "cell_type": "code",
   "execution_count": 73,
   "metadata": {
    "collapsed": false
   },
   "outputs": [],
   "source": [
    "# Let's group all the time series features with x out of the prev 5-20 decisions\n",
    "nums = range(5,21)\n",
    "dropcolnames = [\"numcourtgrant_prev\" + str(i) for i in nums]\n",
    "dropcolnames = dropcolnames + [\"numcourtgrantself_prev\" + str(i) for i in nums]\n",
    "dropcolnames = dropcolnames + [\"numcourtdecideself_prev\" + str(i) for i in nums]\n",
    "dropcolnames = dropcolnames + [\"courtprev\" + str(i) + \"_dayslapse\" for i in nums]\n",
    "\n",
    "# Some of the features only go from 5-10 instead of 5-20\n",
    "nums = range(5,11)\n",
    "keepcolnames = [\"prev\" + str(i) + \"_dayslapse\" for i in nums]\n",
    "keepcolnames = keepcolnames + [\"numcourtgrantother_prev\" + str(i) for i in nums]\n",
    "keepcolnames = keepcolnames + [\"courtprevother\" + str(i) + \"_dayslapse\" for i in nums]\n",
    "keepcolnames = keepcolnames + [\"numgrant_prev\" + str(i) for i in nums]"
   ]
  },
  {
   "cell_type": "code",
   "execution_count": 74,
   "metadata": {
    "collapsed": true
   },
   "outputs": [],
   "source": [
    "# Let's take all the features that refer to averages over a given subset of decisions\n",
    "# lomeangrant is the average over all decisions in the subset where the current decision is not included in the mean\n",
    "# we want to throw away the meangrant (which includes the current decision)\n",
    "# and also get rid of all avgs not based on grantraw\n",
    "avgnames = [\"judge\", \"judgenat\", \"judgedef\", \"judgenatdef\", \"judgelawyer\"]\n",
    "keep = [\"lomeangrantraw_\", \"numdecisionsraw_\", \"numdecisions_\"]\n",
    "drop = [\"meangrant_\", \"lomeangrant_\", \"meangrantraw_\"]\n",
    "\n",
    "keepnames = [i + j for i in keep for j in avgnames]\n",
    "dropnames = [i + j for i in drop for j in avgnames]"
   ]
  },
  {
   "cell_type": "code",
   "execution_count": 75,
   "metadata": {
    "collapsed": true
   },
   "outputs": [],
   "source": [
    "# Same goes for the averages in a given year\n",
    "avgbyyear = [\"\", \"nat\", \"natdef\"]\n",
    "yearnames = [\"judgenumdec\" + i + \"year\" for i in avgbyyear]\n",
    "yearnames = yearnames + [\"lojudgemean\" + i + \"year\" for i in avgbyyear]"
   ]
  },
  {
   "cell_type": "code",
   "execution_count": 76,
   "metadata": {
    "collapsed": false
   },
   "outputs": [],
   "source": [
    "# DateofAppointment comes in all different formats so let's transform the dates to a datetime object\n",
    "raw_data[\"DateofAppointment_formatted\"] = raw_data[\"DateofAppointment\"]\n",
    "for datestring in pd.unique(raw_data[\"DateofAppointment\"][raw_data[\"DateofAppointment\"].notnull()]):\n",
    "    try: \n",
    "        date = datetime.datetime.strptime(datestring, \"%d%b%Y\").date()\n",
    "    except ValueError:\n",
    "        if datestring[3] == \"-\":\n",
    "            date = datetime.datetime.strptime(datestring, \"%b-%y\").date()\n",
    "        else:\n",
    "            date = datetime.datetime.strptime(datestring, \"%b %y\").date()\n",
    "    raw_data[\"DateofAppointment_formatted\"][raw_data[\"DateofAppointment\"] == datestring] = date\n",
    "\n",
    "# comp_date is given in number of days since January 1, 1960, so let's also transform this to a datetime object\n",
    "dates_available = raw_data[\"comp_date\"][raw_data[\"comp_date\"].notnull()]  \n",
    "raw_data[\"comp_date_formatted\"] = raw_data[\"comp_date\"]\n",
    "raw_data[\"comp_date_formatted\"] = [datetime.date(1960, 1, 1) + datetime.timedelta(i) for i in dates_available]"
   ]
  },
  {
   "cell_type": "code",
   "execution_count": 8,
   "metadata": {
    "collapsed": false
   },
   "outputs": [],
   "source": [
    "# import datetime\n",
    "# i = 12724\n",
    "# date = datetime.date(1960, 1, 1) + datetime.timedelta(i)\n",
    "# print date.year\n",
    "# print date.month\n",
    "# print date.day\n",
    "# print date"
   ]
  },
  {
   "cell_type": "code",
   "execution_count": 105,
   "metadata": {
    "collapsed": false
   },
   "outputs": [
    {
     "data": {
      "text/plain": [
       "0.13145539906103287"
      ]
     },
     "execution_count": 105,
     "metadata": {},
     "output_type": "execute_result"
    }
   ],
   "source": [
    "len(pd.unique(raw_data[\"ij_code\"][pd.isnull(raw_data[\"LastName\"])]))/426."
   ]
  },
  {
   "cell_type": "code",
   "execution_count": 107,
   "metadata": {
    "collapsed": false
   },
   "outputs": [
    {
     "data": {
      "text/plain": [
       "(312577, 480)"
      ]
     },
     "execution_count": 107,
     "metadata": {},
     "output_type": "execute_result"
    }
   ],
   "source": [
    "data2.dropna().shape"
   ]
  },
  {
   "cell_type": "code",
   "execution_count": 108,
   "metadata": {
    "collapsed": false
   },
   "outputs": [
    {
     "data": {
      "text/plain": [
       "0.6238401925544803"
      ]
     },
     "execution_count": 108,
     "metadata": {},
     "output_type": "execute_result"
    }
   ],
   "source": [
    "312577./len(data2)"
   ]
  },
  {
   "cell_type": "code",
   "execution_count": 77,
   "metadata": {
    "collapsed": false
   },
   "outputs": [],
   "source": [
    "# Now let's create a numeric feature that gives the number of days since the judge's appointment \n",
    "# up to the current decision, nan if DateofAppointment is missing for that judge\n",
    "subset = raw_data[raw_data[\"comp_date_formatted\"].notnull() & raw_data[\"DateofAppointment_formatted\"].notnull()]\n",
    "timediff = [(a-b).days for (a,b) in zip(subset[\"comp_date_formatted\"], subset[\"DateofAppointment_formatted\"])]\n",
    "raw_data[\"TimeSinceAppointment\"] = np.nan * np.zeros(len(raw_data))\n",
    "raw_data[\"TimeSinceAppointment\"][raw_data[\"comp_date_formatted\"].notnull() \n",
    "                                 & raw_data[\"DateofAppointment_formatted\"].notnull()] = timediff"
   ]
  },
  {
   "cell_type": "code",
   "execution_count": 78,
   "metadata": {
    "collapsed": false
   },
   "outputs": [],
   "source": [
    "# These are mostly unique identifiers and we wouldn't want to include them in the model\n",
    "identifiers = [\"idncase\", \"idnproceeding\", \"eoirattyid\", \"alienattyid\", \"hearing_loc_code\", \n",
    "              \"LastName\", \"FirstName\", \"IJ_NAME\", \"Judge_name_SLR\", \"famcode\",\n",
    "              \"judge_name_caps\", \"ij_code\"]\n",
    "# Need to transform to sets of indicator variables with sklearn.preprocessing\n",
    "categorical = [\"natid\", \"courtid\", \"comp_dow\", \"President_SLR\"]\n",
    "# Note that we've taken certain judge-level identifiers including ij_code, \"FirstUndergrad\", \"LawSchool\",\n",
    "# \"Bar\", \"Court_SLR\" out of the data because they are categorical variables with too many levels, \n",
    "# and because we would like to be able to make predictions on new judges not in the data set\n",
    "\n",
    "# Variables related to the biographical info we have on each judge, missing for about 5% of cases\n",
    "# Overall I am a little skeptical about the quality of this data\n",
    "judge_vars = [\"Male_judge\", \"TimeSinceAppointment\",\n",
    "             \"Year_Appointed_SLR\", \"Year_College_SLR\", \"Year_Law_school_SLR\", \"President_SLR\", \n",
    "             \"Government_Years_SLR\", \"Govt_nonINS_SLR\", \"INS_Years_SLR\", \"Military_Years_SLR\", \"NGO_Years_SLR\",\n",
    "             \"Privateprac_Years_SLR\", \"Academia_Years_SLR\", \"experience\", \"experience8\", \"log_experience\", \n",
    "             \"log_gov_experience\", \"log_INS_experience\", \"log_military_experience\", \"log_private_experience\",\n",
    "             \"log_academic_experience\", \"govD\", \"INSD\", \"militaryD\", \"privateD\", \"academicD\", \"democrat\"]\n",
    "# These are mostly interactions of already included categorical variables, so we don't want to include them\n",
    "interactions = [\"ij_court_code\", \"natcourtcode\", \"natdefcode\", \"natdefcourtcode\"]\n",
    "# These essentially duplicate other variables already contained within the model, often based on less complete\n",
    "# information, (i.e. based on grant rather than grantraw)\n",
    "duplicates = [\"orderwithinday\",\"L1grant\", \"L2grant\", \"moderategrant3070\", \"judgemeanyear\", \"judgemeannatyear\", \n",
    "              \"judgemeannatdefyear\", \"grantgrant\", \"grantdeny\", \"denygrant\", \"denydeny\", \"Gender\", \n",
    "             \"republican\", \"DateofAppointment\", \"comp_date_formatted\", \"DateofAppointment_formatted\", \n",
    "             \"YearofFirstUndergradGraduatio\", \"INS_Every5Years_SLR\", \"afternoon\"] + dropnames\n",
    "# Information about average grant rate for particular subsets of the data\n",
    "averages = keepnames + yearnames\n",
    "# Important to exclude these or we will have major leakage\n",
    "alternative_targets = [\"grant2\", \"grant\"]\n",
    "# grantraw differs from grant in that grant is NA when orderwithinday is unknown (see flag_unknownorderwithinday)\n",
    "target = \"grantraw\"\n",
    "unhelpful = [\"order_raw\", \"min_osc_date\", \"max_osc_date\", \"min_input_date\", \"max_input_date\", \n",
    "             \"negoutliermeanyear\", \"negoutliermeannatyear\", \"negoutliermeannatdefyear\", \"OtherLocationsMentioned\",\n",
    "            \"JudgeUndergradLocation\", \"JudgeLawSchoolLocation\", \"FirstUndergrad\", \"LawSchool\",\n",
    "            \"Bar\", \"Court_SLR\", \"adj_time_start\"]\n",
    "flag_variables = [\"flag_decisionerror_strdes\", \"flag_decisionerror_idncaseproc\", \"flag_earlystarttime\", \n",
    "                  \"flag_mismatch_base_city\", \"flag_mismatch_hearing\", \"flag_multiple_proceedings\",\n",
    "                 \"flag_notfirstproceeding\", \"flag_notfirstproceeding2\", \"flag_multiple_proceedings2\",\n",
    "                 \"flag_prevprocgrant\", \"flag_prevprocdeny\", \"flag_unknowntime\", \"flag_unknownorderwithinday\"]\n",
    "time_series = [\"L1grant_sameday\", \"L2grant_sameday\", \"L1grant2\", \"L2grant2\"] + keepcolnames"
   ]
  },
  {
   "cell_type": "code",
   "execution_count": 27,
   "metadata": {
    "collapsed": false
   },
   "outputs": [
    {
     "data": {
      "text/plain": [
       "132"
      ]
     },
     "execution_count": 27,
     "metadata": {},
     "output_type": "execute_result"
    }
   ],
   "source": [
    "len(identifiers + duplicates + alternative_targets + unhelpful + interactions + dropcolnames)"
   ]
  },
  {
   "cell_type": "code",
   "execution_count": 67,
   "metadata": {
    "collapsed": false
   },
   "outputs": [
    {
     "data": {
      "text/plain": [
       "0.17332298180032851"
      ]
     },
     "execution_count": 67,
     "metadata": {},
     "output_type": "execute_result"
    }
   ],
   "source": [
    "sum(data[\"flag_unknownorderwithinday\"])/(1.*len(data))"
   ]
  },
  {
   "cell_type": "markdown",
   "metadata": {},
   "source": [
    "# Drop unnecessary variables and transform categorical"
   ]
  },
  {
   "cell_type": "code",
   "execution_count": 79,
   "metadata": {
    "collapsed": true
   },
   "outputs": [],
   "source": [
    "data = raw_data.drop(identifiers + duplicates + alternative_targets + unhelpful + interactions + dropcolnames, axis=1)\n",
    "data[\"morning\"][data[\"hour_start\"].isnull()] = np.nan\n",
    "data[\"lunchtime\"][data[\"hour_start\"].isnull()] = np.nan\n",
    "data[\"President_SLR\"][data.Year_Appointed_SLR == 1990] = \"Bush I\"\n",
    "data[\"democrat\"][data.Year_Appointed_SLR == 1990] = 0"
   ]
  },
  {
   "cell_type": "code",
   "execution_count": 47,
   "metadata": {
    "collapsed": false
   },
   "outputs": [
    {
     "data": {
      "text/plain": [
       "24"
      ]
     },
     "execution_count": 47,
     "metadata": {},
     "output_type": "execute_result"
    }
   ],
   "source": [
    "sum([len(pd.unique(data[x])) == 2 for x in data.columns])"
   ]
  },
  {
   "cell_type": "code",
   "execution_count": 48,
   "metadata": {
    "collapsed": false
   },
   "outputs": [
    {
     "name": "stdout",
     "output_type": "stream",
     "text": [
      "10\n",
      "7\n",
      "227\n",
      "54\n"
     ]
    }
   ],
   "source": [
    "print len(pd.unique(data.President_SLR))\n",
    "print len(pd.unique(data.comp_dow))\n",
    "print len(pd.unique(data.natid))\n",
    "print len(pd.unique(data.courtid))"
   ]
  },
  {
   "cell_type": "code",
   "execution_count": 49,
   "metadata": {
    "collapsed": false
   },
   "outputs": [
    {
     "data": {
      "text/plain": [
       "298"
      ]
     },
     "execution_count": 49,
     "metadata": {},
     "output_type": "execute_result"
    }
   ],
   "source": [
    "10+7+227+54"
   ]
  },
  {
   "cell_type": "code",
   "execution_count": 50,
   "metadata": {
    "collapsed": false
   },
   "outputs": [
    {
     "data": {
      "text/plain": [
       "135"
      ]
     },
     "execution_count": 50,
     "metadata": {},
     "output_type": "execute_result"
    }
   ],
   "source": [
    "len(data.columns)"
   ]
  },
  {
   "cell_type": "code",
   "execution_count": 80,
   "metadata": {
    "collapsed": false
   },
   "outputs": [],
   "source": [
    "data2 = data.copy()\n",
    "for feature in categorical:\n",
    "    dummies = pd.get_dummies(data2[feature], feature, dummy_na=True)\n",
    "    data2 = pd.concat([data2, dummies], axis = 1)"
   ]
  },
  {
   "cell_type": "code",
   "execution_count": 52,
   "metadata": {
    "collapsed": false
   },
   "outputs": [
    {
     "data": {
      "text/plain": [
       "435"
      ]
     },
     "execution_count": 52,
     "metadata": {},
     "output_type": "execute_result"
    }
   ],
   "source": [
    "len(data2.columns)"
   ]
  },
  {
   "cell_type": "code",
   "execution_count": 81,
   "metadata": {
    "collapsed": true
   },
   "outputs": [],
   "source": [
    "data2 = data2.drop(categorical, axis=1)"
   ]
  },
  {
   "cell_type": "code",
   "execution_count": 84,
   "metadata": {
    "collapsed": false
   },
   "outputs": [],
   "source": [
    "imputedL1.drop(list(imputedL1.columns[:2]), axis=1, inplace=True)\n",
    "data2.drop(\"L1grant2\", axis=1, inplace=True)\n",
    "data2 = pd.concat([data2, imputedL1], axis=1)"
   ]
  },
  {
   "cell_type": "code",
   "execution_count": 85,
   "metadata": {
    "collapsed": false
   },
   "outputs": [],
   "source": [
    "imputedL2.drop(\"index\", axis=1, inplace=True)\n",
    "data2.drop(\"L2grant2\", axis=1, inplace=True)\n",
    "data2 = pd.concat([data2, imputedL2], axis=1)"
   ]
  },
  {
   "cell_type": "code",
   "execution_count": 90,
   "metadata": {
    "collapsed": false
   },
   "outputs": [
    {
     "data": {
      "text/plain": [
       "Index([u'L1grant2', u'L1imputed'], dtype='object')"
      ]
     },
     "execution_count": 90,
     "metadata": {},
     "output_type": "execute_result"
    }
   ],
   "source": [
    "imputedL1.columns"
   ]
  },
  {
   "cell_type": "code",
   "execution_count": 86,
   "metadata": {
    "collapsed": false
   },
   "outputs": [],
   "source": [
    "# TODO add in data for country of origin\n",
    "countries.drop(countries.columns[0], axis=1, inplace=True)\n",
    "data2 = pd.concat([data2, countries], axis=1)"
   ]
  },
  {
   "cell_type": "markdown",
   "metadata": {},
   "source": [
    "# Deal with missing data in non-time series features"
   ]
  },
  {
   "cell_type": "code",
   "execution_count": 18,
   "metadata": {
    "collapsed": true
   },
   "outputs": [],
   "source": [
    "time_series.remove(\"L1grant2\")\n",
    "time_series.remove(\"L2grant2\")\n",
    "data3 = data2.drop(time_series, axis=1)\n",
    "missing = np.sum(pd.isnull(data3))\n",
    "missing.sort(ascending=False)\n",
    "#print missing[missing > 0]"
   ]
  },
  {
   "cell_type": "code",
   "execution_count": 93,
   "metadata": {
    "collapsed": false
   },
   "outputs": [
    {
     "data": {
      "text/plain": [
       "73"
      ]
     },
     "execution_count": 93,
     "metadata": {},
     "output_type": "execute_result"
    }
   ],
   "source": [
    "missing = np.mean(pd.isnull(data2))\n",
    "len(missing[missing > 0])"
   ]
  },
  {
   "cell_type": "code",
   "execution_count": 94,
   "metadata": {
    "collapsed": true
   },
   "outputs": [],
   "source": [
    "missing.sort(ascending=False)"
   ]
  },
  {
   "cell_type": "code",
   "execution_count": 96,
   "metadata": {
    "collapsed": false
   },
   "outputs": [
    {
     "data": {
      "text/plain": [
       "0.050900802909073492"
      ]
     },
     "execution_count": 96,
     "metadata": {},
     "output_type": "execute_result"
    }
   ],
   "source": [
    "np.median(missing[missing > 0])"
   ]
  },
  {
   "cell_type": "code",
   "execution_count": null,
   "metadata": {
    "collapsed": true
   },
   "outputs": [],
   "source": []
  },
  {
   "cell_type": "code",
   "execution_count": 110,
   "metadata": {
    "collapsed": false
   },
   "outputs": [
    {
     "data": {
      "text/plain": [
       "18"
      ]
     },
     "execution_count": 110,
     "metadata": {},
     "output_type": "execute_result"
    }
   ],
   "source": [
    "len(missing[missing == 0.050900802909073492])"
   ]
  },
  {
   "cell_type": "code",
   "execution_count": 19,
   "metadata": {
    "collapsed": false
   },
   "outputs": [],
   "source": [
    "# This code block takes too long to run\n",
    "\n",
    "#subset = raw_data[[\"ij_code\", \"year\", \"natid\"]][data3[\"lojudgemeannatyear\"].isnull()]\n",
    "#judge_year = subset.groupby([\"ij_code\", \"year\", \"natid\"])\n",
    "#judge_year = judge_year.groups\n",
    "\n",
    "#imputed_values = {}\n",
    "#for judge, year, nat in judge_year.keys():\n",
    "#    mean = np.mean(raw_data[\"lojudgemeannatyear\"][(raw_data[\"ij_code\"] != judge) \n",
    "#                                                  & (raw_data[\"year\"] == year) & (raw_data[\"natid\"] == nat)])\n",
    "#    for row in judge_year[(judge, year, nat)]:\n",
    "#        imputed_values[row] = mean "
   ]
  },
  {
   "cell_type": "code",
   "execution_count": 20,
   "metadata": {
    "collapsed": false
   },
   "outputs": [],
   "source": [
    "subset = data3[data3.TimeSinceAppointment.isnull() & data3.Year_Appointed_SLR.notnull()].copy()\n",
    "subset.TimeSinceAppointment = (subset.year - subset.Year_Appointed_SLR) * 365.\n",
    "data3[\"TimeSinceAppointment\"].loc[subset.index] = subset[\"TimeSinceAppointment\"]\n",
    "data3[\"experience_missing\"] = data3.experience.isnull()\n",
    "data3.experience[data3.experience.isnull()] = (data3.Govt_nonINS_SLR + data3.INS_Years_SLR + data3.Military_Years_SLR +\n",
    "            data3.NGO_Years_SLR + data3.Privateprac_Years_SLR + data3.Academia_Years_SLR)"
   ]
  },
  {
   "cell_type": "code",
   "execution_count": 21,
   "metadata": {
    "collapsed": false
   },
   "outputs": [],
   "source": [
    "#judge_vars.remove(\"President_SLR\")\n",
    "start = data3.columns.get_loc('Male_judge')\n",
    "stop = data3.columns.get_loc('natid_1.0')\n",
    "start2 = data3.columns.get_loc('President_SLR_Bush I')\n",
    "stop2 = data3.columns.get_loc('President_SLR_nan') + 1\n",
    "judge_vars = list(data3.columns[range(start, stop)])\n",
    "judge_vars = judge_vars + list(data3.columns[range(start2,stop2)])\n",
    "judge_vars.remove(\"experience8\")\n",
    "judge_vars.remove(\"log_experience\")"
   ]
  },
  {
   "cell_type": "code",
   "execution_count": 22,
   "metadata": {
    "collapsed": false
   },
   "outputs": [],
   "source": [
    "mi = preprocessing.Imputer()\n",
    "missing_vars = [\"difmeannatdefyear\", \"outliermeannatdefyear\", \"absdifmeannatdefyear\", \n",
    "        \"difmeannatyear\", \"outliermeannatyear\", \"absdifmeannatyear\",\n",
    "        \"difmeanyear\", \"outliermeanyear\", \"absdifmeanyear\", \"defensive\",\n",
    "        \"hour_start\",  \"morning\", \"lunchtime\"] + averages + judge_vars\n",
    "missing = np.sum(pd.isnull(data3[missing_vars]))\n",
    "missing_vars = list(missing[missing > 0].keys())"
   ]
  },
  {
   "cell_type": "code",
   "execution_count": 23,
   "metadata": {
    "collapsed": false
   },
   "outputs": [
    {
     "name": "stdout",
     "output_type": "stream",
     "text": [
      "34\n",
      "45\n",
      "45\n"
     ]
    }
   ],
   "source": [
    "print len(judge_vars)\n",
    "print len(missing_vars)\n",
    "print len(missing[missing > 0])"
   ]
  },
  {
   "cell_type": "code",
   "execution_count": 24,
   "metadata": {
    "collapsed": false
   },
   "outputs": [
    {
     "name": "stdout",
     "output_type": "stream",
     "text": [
      "(501053, 45)\n"
     ]
    }
   ],
   "source": [
    "data4 = mi.fit_transform(data3[missing_vars])\n",
    "data5 = data3.copy()\n",
    "print data4.shape"
   ]
  },
  {
   "cell_type": "code",
   "execution_count": 25,
   "metadata": {
    "collapsed": false
   },
   "outputs": [],
   "source": [
    "data5[missing_vars] = data4\n",
    "data5.experience8 = 1 * (data5.experience >= 8)\n",
    "data5.experience8[data5.experience.isnull()] = np.nan\n",
    "data5.log_experience = np.log(data5.experience)"
   ]
  },
  {
   "cell_type": "code",
   "execution_count": 26,
   "metadata": {
    "collapsed": false
   },
   "outputs": [],
   "source": [
    "data5[\"judge_mean_nat_missing\"] = data3.lojudgemeannatyear.isnull()\n",
    "data5[\"judge_mean_nat__def_missing\"] = data3.lojudgemeannatdefyear.isnull()\n",
    "data5[\"judge_mean_year_missing\"] = data3.lojudgemeanyear.isnull()\n",
    "data5[\"judgedef_missing\"] = data3.lomeangrantraw_judgedef.isnull()\n",
    "data5[\"judgemean_missing\"] = data3.lomeangrantraw_judge.isnull()\n",
    "data5[\"judgelawyer_missing\"] = data3.lomeangrantraw_judgelawyer.isnull()\n",
    "data5[\"judgenat_missing\"] = data3.lomeangrantraw_judgenat.isnull()\n",
    "data5[\"judge_edu_missing\"] = data3.Year_Law_school_SLR.isnull()\n",
    "data5[\"defensive_missing\"] = data3.defensive.isnull()\n",
    "data5[\"judge_bio_missing\"] = data3.experience.isnull()"
   ]
  },
  {
   "cell_type": "code",
   "execution_count": 27,
   "metadata": {
    "collapsed": false
   },
   "outputs": [
    {
     "data": {
      "text/plain": [
       "L2grant2    2423\n",
       "L1grant2     200\n",
       "dtype: int64"
      ]
     },
     "execution_count": 27,
     "metadata": {},
     "output_type": "execute_result"
    }
   ],
   "source": [
    "missing = np.sum(pd.isnull(data5))\n",
    "missing.sort(ascending=False)\n",
    "missing[missing > 0]"
   ]
  },
  {
   "cell_type": "markdown",
   "metadata": {},
   "source": [
    "# Now let's try and fill in some of the time series data"
   ]
  },
  {
   "cell_type": "code",
   "execution_count": 28,
   "metadata": {
    "collapsed": false
   },
   "outputs": [],
   "source": [
    "data4 = pd.concat([data5, data2[time_series]], axis=1)"
   ]
  },
  {
   "cell_type": "code",
   "execution_count": 29,
   "metadata": {
    "collapsed": false
   },
   "outputs": [
    {
     "data": {
      "text/plain": [
       "26"
      ]
     },
     "execution_count": 29,
     "metadata": {},
     "output_type": "execute_result"
    }
   ],
   "source": [
    "missing = np.sum(pd.isnull(data4))\n",
    "missing.sort(ascending=False)\n",
    "len(missing[missing > 0])"
   ]
  },
  {
   "cell_type": "code",
   "execution_count": 30,
   "metadata": {
    "collapsed": false
   },
   "outputs": [],
   "source": [
    "time_series.remove(\"L1grant_sameday\")\n",
    "time_series.remove(\"L2grant_sameday\")"
   ]
  },
  {
   "cell_type": "code",
   "execution_count": 31,
   "metadata": {
    "collapsed": true
   },
   "outputs": [
    {
     "name": "stdout",
     "output_type": "stream",
     "text": [
      "[40061 31831 25427 20634 17046 14506 14283 13459 12352 11196  9954  8635\n",
      "  2423   200]\n"
     ]
    },
    {
     "data": {
      "text/plain": [
       "courtprevother10_dayslapse    40061\n",
       "numcourtgrantother_prev10     40061\n",
       "courtprevother9_dayslapse     31831\n",
       "numcourtgrantother_prev9      31831\n",
       "courtprevother8_dayslapse     25427\n",
       "numcourtgrantother_prev8      25427\n",
       "numcourtgrantother_prev7      20634\n",
       "courtprevother7_dayslapse     20634\n",
       "numcourtgrantother_prev6      17046\n",
       "courtprevother6_dayslapse     17046\n",
       "numgrant_prev10               14506\n",
       "prev10_dayslapse              14506\n",
       "numcourtgrantother_prev5      14283\n",
       "courtprevother5_dayslapse     14283\n",
       "numgrant_prev9                13459\n",
       "prev9_dayslapse               13459\n",
       "numgrant_prev8                12352\n",
       "prev8_dayslapse               12352\n",
       "numgrant_prev7                11196\n",
       "prev7_dayslapse               11196\n",
       "prev6_dayslapse                9954\n",
       "numgrant_prev6                 9954\n",
       "numgrant_prev5                 8635\n",
       "prev5_dayslapse                8635\n",
       "L2grant2                       2423\n",
       "L1grant2                        200\n",
       "dtype: int64"
      ]
     },
     "execution_count": 31,
     "metadata": {},
     "output_type": "execute_result"
    }
   ],
   "source": [
    "print pd.unique(missing[missing > 0])\n",
    "missing[missing > 0]"
   ]
  },
  {
   "cell_type": "code",
   "execution_count": 32,
   "metadata": {
    "collapsed": false
   },
   "outputs": [],
   "source": [
    "missing_vars = time_series\n",
    "data5 = mi.fit_transform(data4[missing_vars])\n",
    "data6 = data4.copy()\n",
    "data6[missing_vars] = data5"
   ]
  },
  {
   "cell_type": "code",
   "execution_count": 33,
   "metadata": {
    "collapsed": true
   },
   "outputs": [
    {
     "data": {
      "text/html": [
       "<div style=\"max-height:1000px;max-width:1500px;overflow:auto;\">\n",
       "<table border=\"1\" class=\"dataframe\">\n",
       "  <thead>\n",
       "    <tr style=\"text-align: right;\">\n",
       "      <th></th>\n",
       "      <th>prev5_dayslapse</th>\n",
       "      <th>prev6_dayslapse</th>\n",
       "      <th>prev7_dayslapse</th>\n",
       "      <th>prev8_dayslapse</th>\n",
       "      <th>prev9_dayslapse</th>\n",
       "      <th>prev10_dayslapse</th>\n",
       "      <th>numcourtgrantother_prev5</th>\n",
       "      <th>numcourtgrantother_prev6</th>\n",
       "      <th>numcourtgrantother_prev7</th>\n",
       "      <th>numcourtgrantother_prev8</th>\n",
       "      <th>...</th>\n",
       "      <th>courtprevother7_dayslapse</th>\n",
       "      <th>courtprevother8_dayslapse</th>\n",
       "      <th>courtprevother9_dayslapse</th>\n",
       "      <th>courtprevother10_dayslapse</th>\n",
       "      <th>numgrant_prev5</th>\n",
       "      <th>numgrant_prev6</th>\n",
       "      <th>numgrant_prev7</th>\n",
       "      <th>numgrant_prev8</th>\n",
       "      <th>numgrant_prev9</th>\n",
       "      <th>numgrant_prev10</th>\n",
       "    </tr>\n",
       "  </thead>\n",
       "  <tbody>\n",
       "    <tr>\n",
       "      <th>0     </th>\n",
       "      <td> False</td>\n",
       "      <td> False</td>\n",
       "      <td> False</td>\n",
       "      <td> False</td>\n",
       "      <td> False</td>\n",
       "      <td> False</td>\n",
       "      <td> False</td>\n",
       "      <td> False</td>\n",
       "      <td> False</td>\n",
       "      <td> False</td>\n",
       "      <td>...</td>\n",
       "      <td> False</td>\n",
       "      <td> False</td>\n",
       "      <td> False</td>\n",
       "      <td> False</td>\n",
       "      <td> False</td>\n",
       "      <td> False</td>\n",
       "      <td> False</td>\n",
       "      <td> False</td>\n",
       "      <td> False</td>\n",
       "      <td> False</td>\n",
       "    </tr>\n",
       "    <tr>\n",
       "      <th>1     </th>\n",
       "      <td> False</td>\n",
       "      <td> False</td>\n",
       "      <td> False</td>\n",
       "      <td> False</td>\n",
       "      <td> False</td>\n",
       "      <td> False</td>\n",
       "      <td> False</td>\n",
       "      <td> False</td>\n",
       "      <td> False</td>\n",
       "      <td> False</td>\n",
       "      <td>...</td>\n",
       "      <td> False</td>\n",
       "      <td> False</td>\n",
       "      <td> False</td>\n",
       "      <td> False</td>\n",
       "      <td> False</td>\n",
       "      <td> False</td>\n",
       "      <td> False</td>\n",
       "      <td> False</td>\n",
       "      <td> False</td>\n",
       "      <td> False</td>\n",
       "    </tr>\n",
       "    <tr>\n",
       "      <th>2     </th>\n",
       "      <td> False</td>\n",
       "      <td> False</td>\n",
       "      <td> False</td>\n",
       "      <td> False</td>\n",
       "      <td> False</td>\n",
       "      <td> False</td>\n",
       "      <td> False</td>\n",
       "      <td> False</td>\n",
       "      <td> False</td>\n",
       "      <td> False</td>\n",
       "      <td>...</td>\n",
       "      <td> False</td>\n",
       "      <td> False</td>\n",
       "      <td> False</td>\n",
       "      <td> False</td>\n",
       "      <td> False</td>\n",
       "      <td> False</td>\n",
       "      <td> False</td>\n",
       "      <td> False</td>\n",
       "      <td> False</td>\n",
       "      <td> False</td>\n",
       "    </tr>\n",
       "    <tr>\n",
       "      <th>3     </th>\n",
       "      <td> False</td>\n",
       "      <td> False</td>\n",
       "      <td> False</td>\n",
       "      <td> False</td>\n",
       "      <td> False</td>\n",
       "      <td> False</td>\n",
       "      <td> False</td>\n",
       "      <td> False</td>\n",
       "      <td> False</td>\n",
       "      <td> False</td>\n",
       "      <td>...</td>\n",
       "      <td> False</td>\n",
       "      <td> False</td>\n",
       "      <td> False</td>\n",
       "      <td> False</td>\n",
       "      <td> False</td>\n",
       "      <td> False</td>\n",
       "      <td> False</td>\n",
       "      <td> False</td>\n",
       "      <td> False</td>\n",
       "      <td> False</td>\n",
       "    </tr>\n",
       "    <tr>\n",
       "      <th>4     </th>\n",
       "      <td> False</td>\n",
       "      <td> False</td>\n",
       "      <td> False</td>\n",
       "      <td> False</td>\n",
       "      <td> False</td>\n",
       "      <td> False</td>\n",
       "      <td> False</td>\n",
       "      <td> False</td>\n",
       "      <td> False</td>\n",
       "      <td> False</td>\n",
       "      <td>...</td>\n",
       "      <td> False</td>\n",
       "      <td> False</td>\n",
       "      <td> False</td>\n",
       "      <td> False</td>\n",
       "      <td> False</td>\n",
       "      <td> False</td>\n",
       "      <td> False</td>\n",
       "      <td> False</td>\n",
       "      <td> False</td>\n",
       "      <td> False</td>\n",
       "    </tr>\n",
       "    <tr>\n",
       "      <th>5     </th>\n",
       "      <td> False</td>\n",
       "      <td> False</td>\n",
       "      <td> False</td>\n",
       "      <td> False</td>\n",
       "      <td> False</td>\n",
       "      <td> False</td>\n",
       "      <td> False</td>\n",
       "      <td> False</td>\n",
       "      <td> False</td>\n",
       "      <td> False</td>\n",
       "      <td>...</td>\n",
       "      <td> False</td>\n",
       "      <td> False</td>\n",
       "      <td> False</td>\n",
       "      <td> False</td>\n",
       "      <td> False</td>\n",
       "      <td> False</td>\n",
       "      <td> False</td>\n",
       "      <td> False</td>\n",
       "      <td> False</td>\n",
       "      <td> False</td>\n",
       "    </tr>\n",
       "    <tr>\n",
       "      <th>6     </th>\n",
       "      <td> False</td>\n",
       "      <td> False</td>\n",
       "      <td> False</td>\n",
       "      <td> False</td>\n",
       "      <td> False</td>\n",
       "      <td> False</td>\n",
       "      <td> False</td>\n",
       "      <td> False</td>\n",
       "      <td> False</td>\n",
       "      <td> False</td>\n",
       "      <td>...</td>\n",
       "      <td> False</td>\n",
       "      <td> False</td>\n",
       "      <td> False</td>\n",
       "      <td> False</td>\n",
       "      <td> False</td>\n",
       "      <td> False</td>\n",
       "      <td> False</td>\n",
       "      <td> False</td>\n",
       "      <td> False</td>\n",
       "      <td> False</td>\n",
       "    </tr>\n",
       "    <tr>\n",
       "      <th>7     </th>\n",
       "      <td> False</td>\n",
       "      <td> False</td>\n",
       "      <td> False</td>\n",
       "      <td> False</td>\n",
       "      <td> False</td>\n",
       "      <td> False</td>\n",
       "      <td> False</td>\n",
       "      <td> False</td>\n",
       "      <td> False</td>\n",
       "      <td> False</td>\n",
       "      <td>...</td>\n",
       "      <td> False</td>\n",
       "      <td> False</td>\n",
       "      <td> False</td>\n",
       "      <td> False</td>\n",
       "      <td> False</td>\n",
       "      <td> False</td>\n",
       "      <td> False</td>\n",
       "      <td> False</td>\n",
       "      <td> False</td>\n",
       "      <td> False</td>\n",
       "    </tr>\n",
       "    <tr>\n",
       "      <th>8     </th>\n",
       "      <td> False</td>\n",
       "      <td> False</td>\n",
       "      <td> False</td>\n",
       "      <td> False</td>\n",
       "      <td> False</td>\n",
       "      <td> False</td>\n",
       "      <td> False</td>\n",
       "      <td> False</td>\n",
       "      <td> False</td>\n",
       "      <td> False</td>\n",
       "      <td>...</td>\n",
       "      <td> False</td>\n",
       "      <td> False</td>\n",
       "      <td> False</td>\n",
       "      <td> False</td>\n",
       "      <td> False</td>\n",
       "      <td> False</td>\n",
       "      <td> False</td>\n",
       "      <td> False</td>\n",
       "      <td> False</td>\n",
       "      <td> False</td>\n",
       "    </tr>\n",
       "    <tr>\n",
       "      <th>9     </th>\n",
       "      <td> False</td>\n",
       "      <td> False</td>\n",
       "      <td> False</td>\n",
       "      <td> False</td>\n",
       "      <td> False</td>\n",
       "      <td> False</td>\n",
       "      <td> False</td>\n",
       "      <td> False</td>\n",
       "      <td> False</td>\n",
       "      <td> False</td>\n",
       "      <td>...</td>\n",
       "      <td> False</td>\n",
       "      <td> False</td>\n",
       "      <td> False</td>\n",
       "      <td> False</td>\n",
       "      <td> False</td>\n",
       "      <td> False</td>\n",
       "      <td> False</td>\n",
       "      <td> False</td>\n",
       "      <td> False</td>\n",
       "      <td> False</td>\n",
       "    </tr>\n",
       "    <tr>\n",
       "      <th>10    </th>\n",
       "      <td> False</td>\n",
       "      <td> False</td>\n",
       "      <td> False</td>\n",
       "      <td> False</td>\n",
       "      <td> False</td>\n",
       "      <td> False</td>\n",
       "      <td> False</td>\n",
       "      <td> False</td>\n",
       "      <td> False</td>\n",
       "      <td> False</td>\n",
       "      <td>...</td>\n",
       "      <td> False</td>\n",
       "      <td> False</td>\n",
       "      <td> False</td>\n",
       "      <td> False</td>\n",
       "      <td> False</td>\n",
       "      <td> False</td>\n",
       "      <td> False</td>\n",
       "      <td> False</td>\n",
       "      <td> False</td>\n",
       "      <td> False</td>\n",
       "    </tr>\n",
       "    <tr>\n",
       "      <th>11    </th>\n",
       "      <td> False</td>\n",
       "      <td> False</td>\n",
       "      <td> False</td>\n",
       "      <td> False</td>\n",
       "      <td> False</td>\n",
       "      <td> False</td>\n",
       "      <td> False</td>\n",
       "      <td> False</td>\n",
       "      <td> False</td>\n",
       "      <td> False</td>\n",
       "      <td>...</td>\n",
       "      <td> False</td>\n",
       "      <td> False</td>\n",
       "      <td> False</td>\n",
       "      <td> False</td>\n",
       "      <td> False</td>\n",
       "      <td> False</td>\n",
       "      <td> False</td>\n",
       "      <td> False</td>\n",
       "      <td> False</td>\n",
       "      <td> False</td>\n",
       "    </tr>\n",
       "    <tr>\n",
       "      <th>12    </th>\n",
       "      <td> False</td>\n",
       "      <td> False</td>\n",
       "      <td> False</td>\n",
       "      <td> False</td>\n",
       "      <td> False</td>\n",
       "      <td> False</td>\n",
       "      <td> False</td>\n",
       "      <td> False</td>\n",
       "      <td> False</td>\n",
       "      <td> False</td>\n",
       "      <td>...</td>\n",
       "      <td> False</td>\n",
       "      <td> False</td>\n",
       "      <td> False</td>\n",
       "      <td> False</td>\n",
       "      <td> False</td>\n",
       "      <td> False</td>\n",
       "      <td> False</td>\n",
       "      <td> False</td>\n",
       "      <td> False</td>\n",
       "      <td> False</td>\n",
       "    </tr>\n",
       "    <tr>\n",
       "      <th>13    </th>\n",
       "      <td> False</td>\n",
       "      <td> False</td>\n",
       "      <td> False</td>\n",
       "      <td> False</td>\n",
       "      <td> False</td>\n",
       "      <td> False</td>\n",
       "      <td> False</td>\n",
       "      <td> False</td>\n",
       "      <td> False</td>\n",
       "      <td> False</td>\n",
       "      <td>...</td>\n",
       "      <td> False</td>\n",
       "      <td> False</td>\n",
       "      <td> False</td>\n",
       "      <td> False</td>\n",
       "      <td> False</td>\n",
       "      <td> False</td>\n",
       "      <td> False</td>\n",
       "      <td> False</td>\n",
       "      <td> False</td>\n",
       "      <td> False</td>\n",
       "    </tr>\n",
       "    <tr>\n",
       "      <th>14    </th>\n",
       "      <td> False</td>\n",
       "      <td> False</td>\n",
       "      <td> False</td>\n",
       "      <td> False</td>\n",
       "      <td> False</td>\n",
       "      <td> False</td>\n",
       "      <td> False</td>\n",
       "      <td> False</td>\n",
       "      <td> False</td>\n",
       "      <td> False</td>\n",
       "      <td>...</td>\n",
       "      <td> False</td>\n",
       "      <td> False</td>\n",
       "      <td> False</td>\n",
       "      <td> False</td>\n",
       "      <td> False</td>\n",
       "      <td> False</td>\n",
       "      <td> False</td>\n",
       "      <td> False</td>\n",
       "      <td> False</td>\n",
       "      <td> False</td>\n",
       "    </tr>\n",
       "    <tr>\n",
       "      <th>15    </th>\n",
       "      <td> False</td>\n",
       "      <td> False</td>\n",
       "      <td> False</td>\n",
       "      <td> False</td>\n",
       "      <td> False</td>\n",
       "      <td> False</td>\n",
       "      <td> False</td>\n",
       "      <td> False</td>\n",
       "      <td> False</td>\n",
       "      <td> False</td>\n",
       "      <td>...</td>\n",
       "      <td> False</td>\n",
       "      <td> False</td>\n",
       "      <td> False</td>\n",
       "      <td> False</td>\n",
       "      <td> False</td>\n",
       "      <td> False</td>\n",
       "      <td> False</td>\n",
       "      <td> False</td>\n",
       "      <td> False</td>\n",
       "      <td> False</td>\n",
       "    </tr>\n",
       "    <tr>\n",
       "      <th>16    </th>\n",
       "      <td> False</td>\n",
       "      <td> False</td>\n",
       "      <td> False</td>\n",
       "      <td> False</td>\n",
       "      <td> False</td>\n",
       "      <td> False</td>\n",
       "      <td> False</td>\n",
       "      <td> False</td>\n",
       "      <td> False</td>\n",
       "      <td> False</td>\n",
       "      <td>...</td>\n",
       "      <td> False</td>\n",
       "      <td> False</td>\n",
       "      <td> False</td>\n",
       "      <td> False</td>\n",
       "      <td> False</td>\n",
       "      <td> False</td>\n",
       "      <td> False</td>\n",
       "      <td> False</td>\n",
       "      <td> False</td>\n",
       "      <td> False</td>\n",
       "    </tr>\n",
       "    <tr>\n",
       "      <th>17    </th>\n",
       "      <td> False</td>\n",
       "      <td> False</td>\n",
       "      <td> False</td>\n",
       "      <td> False</td>\n",
       "      <td> False</td>\n",
       "      <td> False</td>\n",
       "      <td> False</td>\n",
       "      <td> False</td>\n",
       "      <td> False</td>\n",
       "      <td> False</td>\n",
       "      <td>...</td>\n",
       "      <td> False</td>\n",
       "      <td> False</td>\n",
       "      <td> False</td>\n",
       "      <td> False</td>\n",
       "      <td> False</td>\n",
       "      <td> False</td>\n",
       "      <td> False</td>\n",
       "      <td> False</td>\n",
       "      <td> False</td>\n",
       "      <td> False</td>\n",
       "    </tr>\n",
       "    <tr>\n",
       "      <th>18    </th>\n",
       "      <td> False</td>\n",
       "      <td> False</td>\n",
       "      <td> False</td>\n",
       "      <td> False</td>\n",
       "      <td> False</td>\n",
       "      <td> False</td>\n",
       "      <td> False</td>\n",
       "      <td> False</td>\n",
       "      <td> False</td>\n",
       "      <td> False</td>\n",
       "      <td>...</td>\n",
       "      <td> False</td>\n",
       "      <td> False</td>\n",
       "      <td> False</td>\n",
       "      <td> False</td>\n",
       "      <td> False</td>\n",
       "      <td> False</td>\n",
       "      <td> False</td>\n",
       "      <td> False</td>\n",
       "      <td> False</td>\n",
       "      <td> False</td>\n",
       "    </tr>\n",
       "    <tr>\n",
       "      <th>19    </th>\n",
       "      <td> False</td>\n",
       "      <td> False</td>\n",
       "      <td> False</td>\n",
       "      <td> False</td>\n",
       "      <td> False</td>\n",
       "      <td> False</td>\n",
       "      <td> False</td>\n",
       "      <td> False</td>\n",
       "      <td> False</td>\n",
       "      <td> False</td>\n",
       "      <td>...</td>\n",
       "      <td> False</td>\n",
       "      <td> False</td>\n",
       "      <td> False</td>\n",
       "      <td> False</td>\n",
       "      <td> False</td>\n",
       "      <td> False</td>\n",
       "      <td> False</td>\n",
       "      <td> False</td>\n",
       "      <td> False</td>\n",
       "      <td> False</td>\n",
       "    </tr>\n",
       "    <tr>\n",
       "      <th>20    </th>\n",
       "      <td> False</td>\n",
       "      <td> False</td>\n",
       "      <td> False</td>\n",
       "      <td> False</td>\n",
       "      <td> False</td>\n",
       "      <td> False</td>\n",
       "      <td> False</td>\n",
       "      <td> False</td>\n",
       "      <td> False</td>\n",
       "      <td> False</td>\n",
       "      <td>...</td>\n",
       "      <td> False</td>\n",
       "      <td> False</td>\n",
       "      <td> False</td>\n",
       "      <td> False</td>\n",
       "      <td> False</td>\n",
       "      <td> False</td>\n",
       "      <td> False</td>\n",
       "      <td> False</td>\n",
       "      <td> False</td>\n",
       "      <td> False</td>\n",
       "    </tr>\n",
       "    <tr>\n",
       "      <th>21    </th>\n",
       "      <td> False</td>\n",
       "      <td> False</td>\n",
       "      <td> False</td>\n",
       "      <td> False</td>\n",
       "      <td> False</td>\n",
       "      <td> False</td>\n",
       "      <td> False</td>\n",
       "      <td> False</td>\n",
       "      <td> False</td>\n",
       "      <td> False</td>\n",
       "      <td>...</td>\n",
       "      <td> False</td>\n",
       "      <td> False</td>\n",
       "      <td> False</td>\n",
       "      <td> False</td>\n",
       "      <td> False</td>\n",
       "      <td> False</td>\n",
       "      <td> False</td>\n",
       "      <td> False</td>\n",
       "      <td> False</td>\n",
       "      <td> False</td>\n",
       "    </tr>\n",
       "    <tr>\n",
       "      <th>22    </th>\n",
       "      <td> False</td>\n",
       "      <td> False</td>\n",
       "      <td> False</td>\n",
       "      <td> False</td>\n",
       "      <td> False</td>\n",
       "      <td> False</td>\n",
       "      <td> False</td>\n",
       "      <td> False</td>\n",
       "      <td> False</td>\n",
       "      <td> False</td>\n",
       "      <td>...</td>\n",
       "      <td> False</td>\n",
       "      <td> False</td>\n",
       "      <td> False</td>\n",
       "      <td> False</td>\n",
       "      <td> False</td>\n",
       "      <td> False</td>\n",
       "      <td> False</td>\n",
       "      <td> False</td>\n",
       "      <td> False</td>\n",
       "      <td> False</td>\n",
       "    </tr>\n",
       "    <tr>\n",
       "      <th>23    </th>\n",
       "      <td> False</td>\n",
       "      <td> False</td>\n",
       "      <td> False</td>\n",
       "      <td> False</td>\n",
       "      <td> False</td>\n",
       "      <td> False</td>\n",
       "      <td> False</td>\n",
       "      <td> False</td>\n",
       "      <td> False</td>\n",
       "      <td> False</td>\n",
       "      <td>...</td>\n",
       "      <td> False</td>\n",
       "      <td> False</td>\n",
       "      <td> False</td>\n",
       "      <td> False</td>\n",
       "      <td> False</td>\n",
       "      <td> False</td>\n",
       "      <td> False</td>\n",
       "      <td> False</td>\n",
       "      <td> False</td>\n",
       "      <td> False</td>\n",
       "    </tr>\n",
       "    <tr>\n",
       "      <th>24    </th>\n",
       "      <td> False</td>\n",
       "      <td> False</td>\n",
       "      <td> False</td>\n",
       "      <td> False</td>\n",
       "      <td> False</td>\n",
       "      <td> False</td>\n",
       "      <td> False</td>\n",
       "      <td> False</td>\n",
       "      <td> False</td>\n",
       "      <td> False</td>\n",
       "      <td>...</td>\n",
       "      <td> False</td>\n",
       "      <td> False</td>\n",
       "      <td> False</td>\n",
       "      <td> False</td>\n",
       "      <td> False</td>\n",
       "      <td> False</td>\n",
       "      <td> False</td>\n",
       "      <td> False</td>\n",
       "      <td> False</td>\n",
       "      <td> False</td>\n",
       "    </tr>\n",
       "    <tr>\n",
       "      <th>25    </th>\n",
       "      <td> False</td>\n",
       "      <td> False</td>\n",
       "      <td> False</td>\n",
       "      <td> False</td>\n",
       "      <td> False</td>\n",
       "      <td> False</td>\n",
       "      <td> False</td>\n",
       "      <td> False</td>\n",
       "      <td> False</td>\n",
       "      <td> False</td>\n",
       "      <td>...</td>\n",
       "      <td> False</td>\n",
       "      <td> False</td>\n",
       "      <td> False</td>\n",
       "      <td> False</td>\n",
       "      <td> False</td>\n",
       "      <td> False</td>\n",
       "      <td> False</td>\n",
       "      <td> False</td>\n",
       "      <td> False</td>\n",
       "      <td> False</td>\n",
       "    </tr>\n",
       "    <tr>\n",
       "      <th>26    </th>\n",
       "      <td> False</td>\n",
       "      <td> False</td>\n",
       "      <td> False</td>\n",
       "      <td> False</td>\n",
       "      <td> False</td>\n",
       "      <td> False</td>\n",
       "      <td> False</td>\n",
       "      <td> False</td>\n",
       "      <td> False</td>\n",
       "      <td> False</td>\n",
       "      <td>...</td>\n",
       "      <td> False</td>\n",
       "      <td> False</td>\n",
       "      <td> False</td>\n",
       "      <td> False</td>\n",
       "      <td> False</td>\n",
       "      <td> False</td>\n",
       "      <td> False</td>\n",
       "      <td> False</td>\n",
       "      <td> False</td>\n",
       "      <td> False</td>\n",
       "    </tr>\n",
       "    <tr>\n",
       "      <th>27    </th>\n",
       "      <td> False</td>\n",
       "      <td> False</td>\n",
       "      <td> False</td>\n",
       "      <td> False</td>\n",
       "      <td> False</td>\n",
       "      <td> False</td>\n",
       "      <td> False</td>\n",
       "      <td> False</td>\n",
       "      <td> False</td>\n",
       "      <td> False</td>\n",
       "      <td>...</td>\n",
       "      <td> False</td>\n",
       "      <td> False</td>\n",
       "      <td> False</td>\n",
       "      <td> False</td>\n",
       "      <td> False</td>\n",
       "      <td> False</td>\n",
       "      <td> False</td>\n",
       "      <td> False</td>\n",
       "      <td> False</td>\n",
       "      <td> False</td>\n",
       "    </tr>\n",
       "    <tr>\n",
       "      <th>28    </th>\n",
       "      <td> False</td>\n",
       "      <td> False</td>\n",
       "      <td> False</td>\n",
       "      <td> False</td>\n",
       "      <td> False</td>\n",
       "      <td> False</td>\n",
       "      <td> False</td>\n",
       "      <td> False</td>\n",
       "      <td> False</td>\n",
       "      <td> False</td>\n",
       "      <td>...</td>\n",
       "      <td> False</td>\n",
       "      <td> False</td>\n",
       "      <td> False</td>\n",
       "      <td> False</td>\n",
       "      <td> False</td>\n",
       "      <td> False</td>\n",
       "      <td> False</td>\n",
       "      <td> False</td>\n",
       "      <td> False</td>\n",
       "      <td> False</td>\n",
       "    </tr>\n",
       "    <tr>\n",
       "      <th>29    </th>\n",
       "      <td> False</td>\n",
       "      <td> False</td>\n",
       "      <td> False</td>\n",
       "      <td> False</td>\n",
       "      <td> False</td>\n",
       "      <td> False</td>\n",
       "      <td> False</td>\n",
       "      <td> False</td>\n",
       "      <td> False</td>\n",
       "      <td> False</td>\n",
       "      <td>...</td>\n",
       "      <td> False</td>\n",
       "      <td> False</td>\n",
       "      <td> False</td>\n",
       "      <td> False</td>\n",
       "      <td> False</td>\n",
       "      <td> False</td>\n",
       "      <td> False</td>\n",
       "      <td> False</td>\n",
       "      <td> False</td>\n",
       "      <td> False</td>\n",
       "    </tr>\n",
       "    <tr>\n",
       "      <th>...</th>\n",
       "      <td>...</td>\n",
       "      <td>...</td>\n",
       "      <td>...</td>\n",
       "      <td>...</td>\n",
       "      <td>...</td>\n",
       "      <td>...</td>\n",
       "      <td>...</td>\n",
       "      <td>...</td>\n",
       "      <td>...</td>\n",
       "      <td>...</td>\n",
       "      <td>...</td>\n",
       "      <td>...</td>\n",
       "      <td>...</td>\n",
       "      <td>...</td>\n",
       "      <td>...</td>\n",
       "      <td>...</td>\n",
       "      <td>...</td>\n",
       "      <td>...</td>\n",
       "      <td>...</td>\n",
       "      <td>...</td>\n",
       "      <td>...</td>\n",
       "    </tr>\n",
       "    <tr>\n",
       "      <th>501023</th>\n",
       "      <td> False</td>\n",
       "      <td> False</td>\n",
       "      <td> False</td>\n",
       "      <td> False</td>\n",
       "      <td> False</td>\n",
       "      <td> False</td>\n",
       "      <td> False</td>\n",
       "      <td> False</td>\n",
       "      <td> False</td>\n",
       "      <td> False</td>\n",
       "      <td>...</td>\n",
       "      <td> False</td>\n",
       "      <td> False</td>\n",
       "      <td> False</td>\n",
       "      <td> False</td>\n",
       "      <td> False</td>\n",
       "      <td> False</td>\n",
       "      <td> False</td>\n",
       "      <td> False</td>\n",
       "      <td> False</td>\n",
       "      <td> False</td>\n",
       "    </tr>\n",
       "    <tr>\n",
       "      <th>501024</th>\n",
       "      <td> False</td>\n",
       "      <td> False</td>\n",
       "      <td> False</td>\n",
       "      <td> False</td>\n",
       "      <td> False</td>\n",
       "      <td> False</td>\n",
       "      <td> False</td>\n",
       "      <td> False</td>\n",
       "      <td> False</td>\n",
       "      <td> False</td>\n",
       "      <td>...</td>\n",
       "      <td> False</td>\n",
       "      <td> False</td>\n",
       "      <td> False</td>\n",
       "      <td> False</td>\n",
       "      <td> False</td>\n",
       "      <td> False</td>\n",
       "      <td> False</td>\n",
       "      <td> False</td>\n",
       "      <td> False</td>\n",
       "      <td> False</td>\n",
       "    </tr>\n",
       "    <tr>\n",
       "      <th>501025</th>\n",
       "      <td> False</td>\n",
       "      <td> False</td>\n",
       "      <td> False</td>\n",
       "      <td> False</td>\n",
       "      <td> False</td>\n",
       "      <td> False</td>\n",
       "      <td> False</td>\n",
       "      <td> False</td>\n",
       "      <td> False</td>\n",
       "      <td> False</td>\n",
       "      <td>...</td>\n",
       "      <td> False</td>\n",
       "      <td> False</td>\n",
       "      <td> False</td>\n",
       "      <td> False</td>\n",
       "      <td> False</td>\n",
       "      <td> False</td>\n",
       "      <td> False</td>\n",
       "      <td> False</td>\n",
       "      <td> False</td>\n",
       "      <td> False</td>\n",
       "    </tr>\n",
       "    <tr>\n",
       "      <th>501026</th>\n",
       "      <td> False</td>\n",
       "      <td> False</td>\n",
       "      <td> False</td>\n",
       "      <td> False</td>\n",
       "      <td> False</td>\n",
       "      <td> False</td>\n",
       "      <td> False</td>\n",
       "      <td> False</td>\n",
       "      <td> False</td>\n",
       "      <td> False</td>\n",
       "      <td>...</td>\n",
       "      <td> False</td>\n",
       "      <td> False</td>\n",
       "      <td> False</td>\n",
       "      <td> False</td>\n",
       "      <td> False</td>\n",
       "      <td> False</td>\n",
       "      <td> False</td>\n",
       "      <td> False</td>\n",
       "      <td> False</td>\n",
       "      <td> False</td>\n",
       "    </tr>\n",
       "    <tr>\n",
       "      <th>501027</th>\n",
       "      <td> False</td>\n",
       "      <td> False</td>\n",
       "      <td> False</td>\n",
       "      <td> False</td>\n",
       "      <td> False</td>\n",
       "      <td> False</td>\n",
       "      <td> False</td>\n",
       "      <td> False</td>\n",
       "      <td> False</td>\n",
       "      <td> False</td>\n",
       "      <td>...</td>\n",
       "      <td> False</td>\n",
       "      <td> False</td>\n",
       "      <td> False</td>\n",
       "      <td> False</td>\n",
       "      <td> False</td>\n",
       "      <td> False</td>\n",
       "      <td> False</td>\n",
       "      <td> False</td>\n",
       "      <td> False</td>\n",
       "      <td> False</td>\n",
       "    </tr>\n",
       "    <tr>\n",
       "      <th>501028</th>\n",
       "      <td> False</td>\n",
       "      <td> False</td>\n",
       "      <td> False</td>\n",
       "      <td> False</td>\n",
       "      <td> False</td>\n",
       "      <td> False</td>\n",
       "      <td> False</td>\n",
       "      <td> False</td>\n",
       "      <td> False</td>\n",
       "      <td> False</td>\n",
       "      <td>...</td>\n",
       "      <td> False</td>\n",
       "      <td> False</td>\n",
       "      <td> False</td>\n",
       "      <td> False</td>\n",
       "      <td> False</td>\n",
       "      <td> False</td>\n",
       "      <td> False</td>\n",
       "      <td> False</td>\n",
       "      <td> False</td>\n",
       "      <td> False</td>\n",
       "    </tr>\n",
       "    <tr>\n",
       "      <th>501029</th>\n",
       "      <td> False</td>\n",
       "      <td> False</td>\n",
       "      <td> False</td>\n",
       "      <td> False</td>\n",
       "      <td> False</td>\n",
       "      <td> False</td>\n",
       "      <td> False</td>\n",
       "      <td> False</td>\n",
       "      <td> False</td>\n",
       "      <td> False</td>\n",
       "      <td>...</td>\n",
       "      <td> False</td>\n",
       "      <td> False</td>\n",
       "      <td> False</td>\n",
       "      <td> False</td>\n",
       "      <td> False</td>\n",
       "      <td> False</td>\n",
       "      <td> False</td>\n",
       "      <td> False</td>\n",
       "      <td> False</td>\n",
       "      <td> False</td>\n",
       "    </tr>\n",
       "    <tr>\n",
       "      <th>501030</th>\n",
       "      <td> False</td>\n",
       "      <td> False</td>\n",
       "      <td> False</td>\n",
       "      <td> False</td>\n",
       "      <td> False</td>\n",
       "      <td> False</td>\n",
       "      <td> False</td>\n",
       "      <td> False</td>\n",
       "      <td> False</td>\n",
       "      <td> False</td>\n",
       "      <td>...</td>\n",
       "      <td> False</td>\n",
       "      <td> False</td>\n",
       "      <td> False</td>\n",
       "      <td> False</td>\n",
       "      <td> False</td>\n",
       "      <td> False</td>\n",
       "      <td> False</td>\n",
       "      <td> False</td>\n",
       "      <td> False</td>\n",
       "      <td> False</td>\n",
       "    </tr>\n",
       "    <tr>\n",
       "      <th>501031</th>\n",
       "      <td> False</td>\n",
       "      <td> False</td>\n",
       "      <td> False</td>\n",
       "      <td> False</td>\n",
       "      <td> False</td>\n",
       "      <td> False</td>\n",
       "      <td> False</td>\n",
       "      <td> False</td>\n",
       "      <td> False</td>\n",
       "      <td> False</td>\n",
       "      <td>...</td>\n",
       "      <td> False</td>\n",
       "      <td> False</td>\n",
       "      <td> False</td>\n",
       "      <td> False</td>\n",
       "      <td> False</td>\n",
       "      <td> False</td>\n",
       "      <td> False</td>\n",
       "      <td> False</td>\n",
       "      <td> False</td>\n",
       "      <td> False</td>\n",
       "    </tr>\n",
       "    <tr>\n",
       "      <th>501032</th>\n",
       "      <td> False</td>\n",
       "      <td> False</td>\n",
       "      <td> False</td>\n",
       "      <td> False</td>\n",
       "      <td> False</td>\n",
       "      <td> False</td>\n",
       "      <td> False</td>\n",
       "      <td> False</td>\n",
       "      <td> False</td>\n",
       "      <td> False</td>\n",
       "      <td>...</td>\n",
       "      <td> False</td>\n",
       "      <td> False</td>\n",
       "      <td> False</td>\n",
       "      <td> False</td>\n",
       "      <td> False</td>\n",
       "      <td> False</td>\n",
       "      <td> False</td>\n",
       "      <td> False</td>\n",
       "      <td> False</td>\n",
       "      <td> False</td>\n",
       "    </tr>\n",
       "    <tr>\n",
       "      <th>501033</th>\n",
       "      <td> False</td>\n",
       "      <td> False</td>\n",
       "      <td> False</td>\n",
       "      <td> False</td>\n",
       "      <td> False</td>\n",
       "      <td> False</td>\n",
       "      <td> False</td>\n",
       "      <td> False</td>\n",
       "      <td> False</td>\n",
       "      <td> False</td>\n",
       "      <td>...</td>\n",
       "      <td> False</td>\n",
       "      <td> False</td>\n",
       "      <td> False</td>\n",
       "      <td> False</td>\n",
       "      <td> False</td>\n",
       "      <td> False</td>\n",
       "      <td> False</td>\n",
       "      <td> False</td>\n",
       "      <td> False</td>\n",
       "      <td> False</td>\n",
       "    </tr>\n",
       "    <tr>\n",
       "      <th>501034</th>\n",
       "      <td> False</td>\n",
       "      <td> False</td>\n",
       "      <td> False</td>\n",
       "      <td> False</td>\n",
       "      <td> False</td>\n",
       "      <td> False</td>\n",
       "      <td> False</td>\n",
       "      <td> False</td>\n",
       "      <td> False</td>\n",
       "      <td> False</td>\n",
       "      <td>...</td>\n",
       "      <td> False</td>\n",
       "      <td> False</td>\n",
       "      <td> False</td>\n",
       "      <td> False</td>\n",
       "      <td> False</td>\n",
       "      <td> False</td>\n",
       "      <td> False</td>\n",
       "      <td> False</td>\n",
       "      <td> False</td>\n",
       "      <td> False</td>\n",
       "    </tr>\n",
       "    <tr>\n",
       "      <th>501035</th>\n",
       "      <td> False</td>\n",
       "      <td> False</td>\n",
       "      <td> False</td>\n",
       "      <td> False</td>\n",
       "      <td> False</td>\n",
       "      <td> False</td>\n",
       "      <td> False</td>\n",
       "      <td> False</td>\n",
       "      <td> False</td>\n",
       "      <td> False</td>\n",
       "      <td>...</td>\n",
       "      <td> False</td>\n",
       "      <td> False</td>\n",
       "      <td> False</td>\n",
       "      <td> False</td>\n",
       "      <td> False</td>\n",
       "      <td> False</td>\n",
       "      <td> False</td>\n",
       "      <td> False</td>\n",
       "      <td> False</td>\n",
       "      <td> False</td>\n",
       "    </tr>\n",
       "    <tr>\n",
       "      <th>501036</th>\n",
       "      <td> False</td>\n",
       "      <td> False</td>\n",
       "      <td> False</td>\n",
       "      <td> False</td>\n",
       "      <td> False</td>\n",
       "      <td> False</td>\n",
       "      <td> False</td>\n",
       "      <td> False</td>\n",
       "      <td> False</td>\n",
       "      <td> False</td>\n",
       "      <td>...</td>\n",
       "      <td> False</td>\n",
       "      <td> False</td>\n",
       "      <td> False</td>\n",
       "      <td> False</td>\n",
       "      <td> False</td>\n",
       "      <td> False</td>\n",
       "      <td> False</td>\n",
       "      <td> False</td>\n",
       "      <td> False</td>\n",
       "      <td> False</td>\n",
       "    </tr>\n",
       "    <tr>\n",
       "      <th>501037</th>\n",
       "      <td> False</td>\n",
       "      <td> False</td>\n",
       "      <td> False</td>\n",
       "      <td> False</td>\n",
       "      <td> False</td>\n",
       "      <td> False</td>\n",
       "      <td> False</td>\n",
       "      <td> False</td>\n",
       "      <td> False</td>\n",
       "      <td> False</td>\n",
       "      <td>...</td>\n",
       "      <td> False</td>\n",
       "      <td> False</td>\n",
       "      <td> False</td>\n",
       "      <td> False</td>\n",
       "      <td> False</td>\n",
       "      <td> False</td>\n",
       "      <td> False</td>\n",
       "      <td> False</td>\n",
       "      <td> False</td>\n",
       "      <td> False</td>\n",
       "    </tr>\n",
       "    <tr>\n",
       "      <th>501038</th>\n",
       "      <td> False</td>\n",
       "      <td> False</td>\n",
       "      <td> False</td>\n",
       "      <td> False</td>\n",
       "      <td> False</td>\n",
       "      <td> False</td>\n",
       "      <td> False</td>\n",
       "      <td> False</td>\n",
       "      <td> False</td>\n",
       "      <td> False</td>\n",
       "      <td>...</td>\n",
       "      <td> False</td>\n",
       "      <td> False</td>\n",
       "      <td> False</td>\n",
       "      <td> False</td>\n",
       "      <td> False</td>\n",
       "      <td> False</td>\n",
       "      <td> False</td>\n",
       "      <td> False</td>\n",
       "      <td> False</td>\n",
       "      <td> False</td>\n",
       "    </tr>\n",
       "    <tr>\n",
       "      <th>501039</th>\n",
       "      <td> False</td>\n",
       "      <td> False</td>\n",
       "      <td> False</td>\n",
       "      <td> False</td>\n",
       "      <td> False</td>\n",
       "      <td> False</td>\n",
       "      <td> False</td>\n",
       "      <td> False</td>\n",
       "      <td> False</td>\n",
       "      <td> False</td>\n",
       "      <td>...</td>\n",
       "      <td> False</td>\n",
       "      <td> False</td>\n",
       "      <td> False</td>\n",
       "      <td> False</td>\n",
       "      <td> False</td>\n",
       "      <td> False</td>\n",
       "      <td> False</td>\n",
       "      <td> False</td>\n",
       "      <td> False</td>\n",
       "      <td> False</td>\n",
       "    </tr>\n",
       "    <tr>\n",
       "      <th>501040</th>\n",
       "      <td> False</td>\n",
       "      <td> False</td>\n",
       "      <td> False</td>\n",
       "      <td> False</td>\n",
       "      <td> False</td>\n",
       "      <td> False</td>\n",
       "      <td> False</td>\n",
       "      <td> False</td>\n",
       "      <td> False</td>\n",
       "      <td> False</td>\n",
       "      <td>...</td>\n",
       "      <td> False</td>\n",
       "      <td> False</td>\n",
       "      <td> False</td>\n",
       "      <td> False</td>\n",
       "      <td> False</td>\n",
       "      <td> False</td>\n",
       "      <td> False</td>\n",
       "      <td> False</td>\n",
       "      <td> False</td>\n",
       "      <td> False</td>\n",
       "    </tr>\n",
       "    <tr>\n",
       "      <th>501041</th>\n",
       "      <td> False</td>\n",
       "      <td> False</td>\n",
       "      <td> False</td>\n",
       "      <td> False</td>\n",
       "      <td> False</td>\n",
       "      <td> False</td>\n",
       "      <td> False</td>\n",
       "      <td> False</td>\n",
       "      <td> False</td>\n",
       "      <td> False</td>\n",
       "      <td>...</td>\n",
       "      <td> False</td>\n",
       "      <td> False</td>\n",
       "      <td> False</td>\n",
       "      <td> False</td>\n",
       "      <td> False</td>\n",
       "      <td> False</td>\n",
       "      <td> False</td>\n",
       "      <td> False</td>\n",
       "      <td> False</td>\n",
       "      <td> False</td>\n",
       "    </tr>\n",
       "    <tr>\n",
       "      <th>501042</th>\n",
       "      <td> False</td>\n",
       "      <td> False</td>\n",
       "      <td> False</td>\n",
       "      <td> False</td>\n",
       "      <td> False</td>\n",
       "      <td> False</td>\n",
       "      <td> False</td>\n",
       "      <td> False</td>\n",
       "      <td> False</td>\n",
       "      <td> False</td>\n",
       "      <td>...</td>\n",
       "      <td> False</td>\n",
       "      <td> False</td>\n",
       "      <td> False</td>\n",
       "      <td> False</td>\n",
       "      <td> False</td>\n",
       "      <td> False</td>\n",
       "      <td> False</td>\n",
       "      <td> False</td>\n",
       "      <td> False</td>\n",
       "      <td> False</td>\n",
       "    </tr>\n",
       "    <tr>\n",
       "      <th>501043</th>\n",
       "      <td> False</td>\n",
       "      <td> False</td>\n",
       "      <td> False</td>\n",
       "      <td> False</td>\n",
       "      <td> False</td>\n",
       "      <td> False</td>\n",
       "      <td> False</td>\n",
       "      <td> False</td>\n",
       "      <td> False</td>\n",
       "      <td> False</td>\n",
       "      <td>...</td>\n",
       "      <td> False</td>\n",
       "      <td> False</td>\n",
       "      <td> False</td>\n",
       "      <td> False</td>\n",
       "      <td> False</td>\n",
       "      <td> False</td>\n",
       "      <td> False</td>\n",
       "      <td> False</td>\n",
       "      <td> False</td>\n",
       "      <td> False</td>\n",
       "    </tr>\n",
       "    <tr>\n",
       "      <th>501044</th>\n",
       "      <td> False</td>\n",
       "      <td> False</td>\n",
       "      <td> False</td>\n",
       "      <td> False</td>\n",
       "      <td> False</td>\n",
       "      <td> False</td>\n",
       "      <td> False</td>\n",
       "      <td> False</td>\n",
       "      <td> False</td>\n",
       "      <td> False</td>\n",
       "      <td>...</td>\n",
       "      <td> False</td>\n",
       "      <td> False</td>\n",
       "      <td> False</td>\n",
       "      <td> False</td>\n",
       "      <td> False</td>\n",
       "      <td> False</td>\n",
       "      <td> False</td>\n",
       "      <td> False</td>\n",
       "      <td> False</td>\n",
       "      <td> False</td>\n",
       "    </tr>\n",
       "    <tr>\n",
       "      <th>501045</th>\n",
       "      <td> False</td>\n",
       "      <td> False</td>\n",
       "      <td> False</td>\n",
       "      <td> False</td>\n",
       "      <td> False</td>\n",
       "      <td> False</td>\n",
       "      <td> False</td>\n",
       "      <td> False</td>\n",
       "      <td> False</td>\n",
       "      <td> False</td>\n",
       "      <td>...</td>\n",
       "      <td> False</td>\n",
       "      <td> False</td>\n",
       "      <td> False</td>\n",
       "      <td> False</td>\n",
       "      <td> False</td>\n",
       "      <td> False</td>\n",
       "      <td> False</td>\n",
       "      <td> False</td>\n",
       "      <td> False</td>\n",
       "      <td> False</td>\n",
       "    </tr>\n",
       "    <tr>\n",
       "      <th>501046</th>\n",
       "      <td> False</td>\n",
       "      <td> False</td>\n",
       "      <td> False</td>\n",
       "      <td> False</td>\n",
       "      <td> False</td>\n",
       "      <td> False</td>\n",
       "      <td> False</td>\n",
       "      <td> False</td>\n",
       "      <td> False</td>\n",
       "      <td> False</td>\n",
       "      <td>...</td>\n",
       "      <td> False</td>\n",
       "      <td> False</td>\n",
       "      <td> False</td>\n",
       "      <td> False</td>\n",
       "      <td> False</td>\n",
       "      <td> False</td>\n",
       "      <td> False</td>\n",
       "      <td> False</td>\n",
       "      <td> False</td>\n",
       "      <td> False</td>\n",
       "    </tr>\n",
       "    <tr>\n",
       "      <th>501047</th>\n",
       "      <td> False</td>\n",
       "      <td> False</td>\n",
       "      <td> False</td>\n",
       "      <td> False</td>\n",
       "      <td> False</td>\n",
       "      <td> False</td>\n",
       "      <td> False</td>\n",
       "      <td> False</td>\n",
       "      <td> False</td>\n",
       "      <td> False</td>\n",
       "      <td>...</td>\n",
       "      <td> False</td>\n",
       "      <td> False</td>\n",
       "      <td> False</td>\n",
       "      <td> False</td>\n",
       "      <td> False</td>\n",
       "      <td> False</td>\n",
       "      <td> False</td>\n",
       "      <td> False</td>\n",
       "      <td> False</td>\n",
       "      <td> False</td>\n",
       "    </tr>\n",
       "    <tr>\n",
       "      <th>501048</th>\n",
       "      <td> False</td>\n",
       "      <td> False</td>\n",
       "      <td> False</td>\n",
       "      <td> False</td>\n",
       "      <td> False</td>\n",
       "      <td> False</td>\n",
       "      <td> False</td>\n",
       "      <td> False</td>\n",
       "      <td> False</td>\n",
       "      <td> False</td>\n",
       "      <td>...</td>\n",
       "      <td> False</td>\n",
       "      <td> False</td>\n",
       "      <td> False</td>\n",
       "      <td> False</td>\n",
       "      <td> False</td>\n",
       "      <td> False</td>\n",
       "      <td> False</td>\n",
       "      <td> False</td>\n",
       "      <td> False</td>\n",
       "      <td> False</td>\n",
       "    </tr>\n",
       "    <tr>\n",
       "      <th>501049</th>\n",
       "      <td> False</td>\n",
       "      <td> False</td>\n",
       "      <td> False</td>\n",
       "      <td> False</td>\n",
       "      <td> False</td>\n",
       "      <td> False</td>\n",
       "      <td> False</td>\n",
       "      <td> False</td>\n",
       "      <td> False</td>\n",
       "      <td> False</td>\n",
       "      <td>...</td>\n",
       "      <td> False</td>\n",
       "      <td> False</td>\n",
       "      <td> False</td>\n",
       "      <td> False</td>\n",
       "      <td> False</td>\n",
       "      <td> False</td>\n",
       "      <td> False</td>\n",
       "      <td> False</td>\n",
       "      <td> False</td>\n",
       "      <td> False</td>\n",
       "    </tr>\n",
       "    <tr>\n",
       "      <th>501050</th>\n",
       "      <td> False</td>\n",
       "      <td> False</td>\n",
       "      <td> False</td>\n",
       "      <td> False</td>\n",
       "      <td> False</td>\n",
       "      <td> False</td>\n",
       "      <td> False</td>\n",
       "      <td> False</td>\n",
       "      <td> False</td>\n",
       "      <td> False</td>\n",
       "      <td>...</td>\n",
       "      <td> False</td>\n",
       "      <td> False</td>\n",
       "      <td> False</td>\n",
       "      <td> False</td>\n",
       "      <td> False</td>\n",
       "      <td> False</td>\n",
       "      <td> False</td>\n",
       "      <td> False</td>\n",
       "      <td> False</td>\n",
       "      <td> False</td>\n",
       "    </tr>\n",
       "    <tr>\n",
       "      <th>501051</th>\n",
       "      <td> False</td>\n",
       "      <td> False</td>\n",
       "      <td> False</td>\n",
       "      <td> False</td>\n",
       "      <td> False</td>\n",
       "      <td> False</td>\n",
       "      <td> False</td>\n",
       "      <td> False</td>\n",
       "      <td> False</td>\n",
       "      <td> False</td>\n",
       "      <td>...</td>\n",
       "      <td> False</td>\n",
       "      <td> False</td>\n",
       "      <td> False</td>\n",
       "      <td> False</td>\n",
       "      <td> False</td>\n",
       "      <td> False</td>\n",
       "      <td> False</td>\n",
       "      <td> False</td>\n",
       "      <td> False</td>\n",
       "      <td> False</td>\n",
       "    </tr>\n",
       "    <tr>\n",
       "      <th>501052</th>\n",
       "      <td> False</td>\n",
       "      <td> False</td>\n",
       "      <td> False</td>\n",
       "      <td> False</td>\n",
       "      <td> False</td>\n",
       "      <td> False</td>\n",
       "      <td> False</td>\n",
       "      <td> False</td>\n",
       "      <td> False</td>\n",
       "      <td> False</td>\n",
       "      <td>...</td>\n",
       "      <td> False</td>\n",
       "      <td> False</td>\n",
       "      <td> False</td>\n",
       "      <td> False</td>\n",
       "      <td> False</td>\n",
       "      <td> False</td>\n",
       "      <td> False</td>\n",
       "      <td> False</td>\n",
       "      <td> False</td>\n",
       "      <td> False</td>\n",
       "    </tr>\n",
       "  </tbody>\n",
       "</table>\n",
       "<p>501053 rows × 24 columns</p>\n",
       "</div>"
      ],
      "text/plain": [
       "       prev5_dayslapse prev6_dayslapse prev7_dayslapse prev8_dayslapse  \\\n",
       "0                False           False           False           False   \n",
       "1                False           False           False           False   \n",
       "2                False           False           False           False   \n",
       "3                False           False           False           False   \n",
       "4                False           False           False           False   \n",
       "5                False           False           False           False   \n",
       "6                False           False           False           False   \n",
       "7                False           False           False           False   \n",
       "8                False           False           False           False   \n",
       "9                False           False           False           False   \n",
       "10               False           False           False           False   \n",
       "11               False           False           False           False   \n",
       "12               False           False           False           False   \n",
       "13               False           False           False           False   \n",
       "14               False           False           False           False   \n",
       "15               False           False           False           False   \n",
       "16               False           False           False           False   \n",
       "17               False           False           False           False   \n",
       "18               False           False           False           False   \n",
       "19               False           False           False           False   \n",
       "20               False           False           False           False   \n",
       "21               False           False           False           False   \n",
       "22               False           False           False           False   \n",
       "23               False           False           False           False   \n",
       "24               False           False           False           False   \n",
       "25               False           False           False           False   \n",
       "26               False           False           False           False   \n",
       "27               False           False           False           False   \n",
       "28               False           False           False           False   \n",
       "29               False           False           False           False   \n",
       "...                ...             ...             ...             ...   \n",
       "501023           False           False           False           False   \n",
       "501024           False           False           False           False   \n",
       "501025           False           False           False           False   \n",
       "501026           False           False           False           False   \n",
       "501027           False           False           False           False   \n",
       "501028           False           False           False           False   \n",
       "501029           False           False           False           False   \n",
       "501030           False           False           False           False   \n",
       "501031           False           False           False           False   \n",
       "501032           False           False           False           False   \n",
       "501033           False           False           False           False   \n",
       "501034           False           False           False           False   \n",
       "501035           False           False           False           False   \n",
       "501036           False           False           False           False   \n",
       "501037           False           False           False           False   \n",
       "501038           False           False           False           False   \n",
       "501039           False           False           False           False   \n",
       "501040           False           False           False           False   \n",
       "501041           False           False           False           False   \n",
       "501042           False           False           False           False   \n",
       "501043           False           False           False           False   \n",
       "501044           False           False           False           False   \n",
       "501045           False           False           False           False   \n",
       "501046           False           False           False           False   \n",
       "501047           False           False           False           False   \n",
       "501048           False           False           False           False   \n",
       "501049           False           False           False           False   \n",
       "501050           False           False           False           False   \n",
       "501051           False           False           False           False   \n",
       "501052           False           False           False           False   \n",
       "\n",
       "       prev9_dayslapse prev10_dayslapse numcourtgrantother_prev5  \\\n",
       "0                False            False                    False   \n",
       "1                False            False                    False   \n",
       "2                False            False                    False   \n",
       "3                False            False                    False   \n",
       "4                False            False                    False   \n",
       "5                False            False                    False   \n",
       "6                False            False                    False   \n",
       "7                False            False                    False   \n",
       "8                False            False                    False   \n",
       "9                False            False                    False   \n",
       "10               False            False                    False   \n",
       "11               False            False                    False   \n",
       "12               False            False                    False   \n",
       "13               False            False                    False   \n",
       "14               False            False                    False   \n",
       "15               False            False                    False   \n",
       "16               False            False                    False   \n",
       "17               False            False                    False   \n",
       "18               False            False                    False   \n",
       "19               False            False                    False   \n",
       "20               False            False                    False   \n",
       "21               False            False                    False   \n",
       "22               False            False                    False   \n",
       "23               False            False                    False   \n",
       "24               False            False                    False   \n",
       "25               False            False                    False   \n",
       "26               False            False                    False   \n",
       "27               False            False                    False   \n",
       "28               False            False                    False   \n",
       "29               False            False                    False   \n",
       "...                ...              ...                      ...   \n",
       "501023           False            False                    False   \n",
       "501024           False            False                    False   \n",
       "501025           False            False                    False   \n",
       "501026           False            False                    False   \n",
       "501027           False            False                    False   \n",
       "501028           False            False                    False   \n",
       "501029           False            False                    False   \n",
       "501030           False            False                    False   \n",
       "501031           False            False                    False   \n",
       "501032           False            False                    False   \n",
       "501033           False            False                    False   \n",
       "501034           False            False                    False   \n",
       "501035           False            False                    False   \n",
       "501036           False            False                    False   \n",
       "501037           False            False                    False   \n",
       "501038           False            False                    False   \n",
       "501039           False            False                    False   \n",
       "501040           False            False                    False   \n",
       "501041           False            False                    False   \n",
       "501042           False            False                    False   \n",
       "501043           False            False                    False   \n",
       "501044           False            False                    False   \n",
       "501045           False            False                    False   \n",
       "501046           False            False                    False   \n",
       "501047           False            False                    False   \n",
       "501048           False            False                    False   \n",
       "501049           False            False                    False   \n",
       "501050           False            False                    False   \n",
       "501051           False            False                    False   \n",
       "501052           False            False                    False   \n",
       "\n",
       "       numcourtgrantother_prev6 numcourtgrantother_prev7  \\\n",
       "0                         False                    False   \n",
       "1                         False                    False   \n",
       "2                         False                    False   \n",
       "3                         False                    False   \n",
       "4                         False                    False   \n",
       "5                         False                    False   \n",
       "6                         False                    False   \n",
       "7                         False                    False   \n",
       "8                         False                    False   \n",
       "9                         False                    False   \n",
       "10                        False                    False   \n",
       "11                        False                    False   \n",
       "12                        False                    False   \n",
       "13                        False                    False   \n",
       "14                        False                    False   \n",
       "15                        False                    False   \n",
       "16                        False                    False   \n",
       "17                        False                    False   \n",
       "18                        False                    False   \n",
       "19                        False                    False   \n",
       "20                        False                    False   \n",
       "21                        False                    False   \n",
       "22                        False                    False   \n",
       "23                        False                    False   \n",
       "24                        False                    False   \n",
       "25                        False                    False   \n",
       "26                        False                    False   \n",
       "27                        False                    False   \n",
       "28                        False                    False   \n",
       "29                        False                    False   \n",
       "...                         ...                      ...   \n",
       "501023                    False                    False   \n",
       "501024                    False                    False   \n",
       "501025                    False                    False   \n",
       "501026                    False                    False   \n",
       "501027                    False                    False   \n",
       "501028                    False                    False   \n",
       "501029                    False                    False   \n",
       "501030                    False                    False   \n",
       "501031                    False                    False   \n",
       "501032                    False                    False   \n",
       "501033                    False                    False   \n",
       "501034                    False                    False   \n",
       "501035                    False                    False   \n",
       "501036                    False                    False   \n",
       "501037                    False                    False   \n",
       "501038                    False                    False   \n",
       "501039                    False                    False   \n",
       "501040                    False                    False   \n",
       "501041                    False                    False   \n",
       "501042                    False                    False   \n",
       "501043                    False                    False   \n",
       "501044                    False                    False   \n",
       "501045                    False                    False   \n",
       "501046                    False                    False   \n",
       "501047                    False                    False   \n",
       "501048                    False                    False   \n",
       "501049                    False                    False   \n",
       "501050                    False                    False   \n",
       "501051                    False                    False   \n",
       "501052                    False                    False   \n",
       "\n",
       "       numcourtgrantother_prev8           ...             \\\n",
       "0                         False           ...              \n",
       "1                         False           ...              \n",
       "2                         False           ...              \n",
       "3                         False           ...              \n",
       "4                         False           ...              \n",
       "5                         False           ...              \n",
       "6                         False           ...              \n",
       "7                         False           ...              \n",
       "8                         False           ...              \n",
       "9                         False           ...              \n",
       "10                        False           ...              \n",
       "11                        False           ...              \n",
       "12                        False           ...              \n",
       "13                        False           ...              \n",
       "14                        False           ...              \n",
       "15                        False           ...              \n",
       "16                        False           ...              \n",
       "17                        False           ...              \n",
       "18                        False           ...              \n",
       "19                        False           ...              \n",
       "20                        False           ...              \n",
       "21                        False           ...              \n",
       "22                        False           ...              \n",
       "23                        False           ...              \n",
       "24                        False           ...              \n",
       "25                        False           ...              \n",
       "26                        False           ...              \n",
       "27                        False           ...              \n",
       "28                        False           ...              \n",
       "29                        False           ...              \n",
       "...                         ...           ...              \n",
       "501023                    False           ...              \n",
       "501024                    False           ...              \n",
       "501025                    False           ...              \n",
       "501026                    False           ...              \n",
       "501027                    False           ...              \n",
       "501028                    False           ...              \n",
       "501029                    False           ...              \n",
       "501030                    False           ...              \n",
       "501031                    False           ...              \n",
       "501032                    False           ...              \n",
       "501033                    False           ...              \n",
       "501034                    False           ...              \n",
       "501035                    False           ...              \n",
       "501036                    False           ...              \n",
       "501037                    False           ...              \n",
       "501038                    False           ...              \n",
       "501039                    False           ...              \n",
       "501040                    False           ...              \n",
       "501041                    False           ...              \n",
       "501042                    False           ...              \n",
       "501043                    False           ...              \n",
       "501044                    False           ...              \n",
       "501045                    False           ...              \n",
       "501046                    False           ...              \n",
       "501047                    False           ...              \n",
       "501048                    False           ...              \n",
       "501049                    False           ...              \n",
       "501050                    False           ...              \n",
       "501051                    False           ...              \n",
       "501052                    False           ...              \n",
       "\n",
       "       courtprevother7_dayslapse courtprevother8_dayslapse  \\\n",
       "0                          False                     False   \n",
       "1                          False                     False   \n",
       "2                          False                     False   \n",
       "3                          False                     False   \n",
       "4                          False                     False   \n",
       "5                          False                     False   \n",
       "6                          False                     False   \n",
       "7                          False                     False   \n",
       "8                          False                     False   \n",
       "9                          False                     False   \n",
       "10                         False                     False   \n",
       "11                         False                     False   \n",
       "12                         False                     False   \n",
       "13                         False                     False   \n",
       "14                         False                     False   \n",
       "15                         False                     False   \n",
       "16                         False                     False   \n",
       "17                         False                     False   \n",
       "18                         False                     False   \n",
       "19                         False                     False   \n",
       "20                         False                     False   \n",
       "21                         False                     False   \n",
       "22                         False                     False   \n",
       "23                         False                     False   \n",
       "24                         False                     False   \n",
       "25                         False                     False   \n",
       "26                         False                     False   \n",
       "27                         False                     False   \n",
       "28                         False                     False   \n",
       "29                         False                     False   \n",
       "...                          ...                       ...   \n",
       "501023                     False                     False   \n",
       "501024                     False                     False   \n",
       "501025                     False                     False   \n",
       "501026                     False                     False   \n",
       "501027                     False                     False   \n",
       "501028                     False                     False   \n",
       "501029                     False                     False   \n",
       "501030                     False                     False   \n",
       "501031                     False                     False   \n",
       "501032                     False                     False   \n",
       "501033                     False                     False   \n",
       "501034                     False                     False   \n",
       "501035                     False                     False   \n",
       "501036                     False                     False   \n",
       "501037                     False                     False   \n",
       "501038                     False                     False   \n",
       "501039                     False                     False   \n",
       "501040                     False                     False   \n",
       "501041                     False                     False   \n",
       "501042                     False                     False   \n",
       "501043                     False                     False   \n",
       "501044                     False                     False   \n",
       "501045                     False                     False   \n",
       "501046                     False                     False   \n",
       "501047                     False                     False   \n",
       "501048                     False                     False   \n",
       "501049                     False                     False   \n",
       "501050                     False                     False   \n",
       "501051                     False                     False   \n",
       "501052                     False                     False   \n",
       "\n",
       "       courtprevother9_dayslapse courtprevother10_dayslapse numgrant_prev5  \\\n",
       "0                          False                      False          False   \n",
       "1                          False                      False          False   \n",
       "2                          False                      False          False   \n",
       "3                          False                      False          False   \n",
       "4                          False                      False          False   \n",
       "5                          False                      False          False   \n",
       "6                          False                      False          False   \n",
       "7                          False                      False          False   \n",
       "8                          False                      False          False   \n",
       "9                          False                      False          False   \n",
       "10                         False                      False          False   \n",
       "11                         False                      False          False   \n",
       "12                         False                      False          False   \n",
       "13                         False                      False          False   \n",
       "14                         False                      False          False   \n",
       "15                         False                      False          False   \n",
       "16                         False                      False          False   \n",
       "17                         False                      False          False   \n",
       "18                         False                      False          False   \n",
       "19                         False                      False          False   \n",
       "20                         False                      False          False   \n",
       "21                         False                      False          False   \n",
       "22                         False                      False          False   \n",
       "23                         False                      False          False   \n",
       "24                         False                      False          False   \n",
       "25                         False                      False          False   \n",
       "26                         False                      False          False   \n",
       "27                         False                      False          False   \n",
       "28                         False                      False          False   \n",
       "29                         False                      False          False   \n",
       "...                          ...                        ...            ...   \n",
       "501023                     False                      False          False   \n",
       "501024                     False                      False          False   \n",
       "501025                     False                      False          False   \n",
       "501026                     False                      False          False   \n",
       "501027                     False                      False          False   \n",
       "501028                     False                      False          False   \n",
       "501029                     False                      False          False   \n",
       "501030                     False                      False          False   \n",
       "501031                     False                      False          False   \n",
       "501032                     False                      False          False   \n",
       "501033                     False                      False          False   \n",
       "501034                     False                      False          False   \n",
       "501035                     False                      False          False   \n",
       "501036                     False                      False          False   \n",
       "501037                     False                      False          False   \n",
       "501038                     False                      False          False   \n",
       "501039                     False                      False          False   \n",
       "501040                     False                      False          False   \n",
       "501041                     False                      False          False   \n",
       "501042                     False                      False          False   \n",
       "501043                     False                      False          False   \n",
       "501044                     False                      False          False   \n",
       "501045                     False                      False          False   \n",
       "501046                     False                      False          False   \n",
       "501047                     False                      False          False   \n",
       "501048                     False                      False          False   \n",
       "501049                     False                      False          False   \n",
       "501050                     False                      False          False   \n",
       "501051                     False                      False          False   \n",
       "501052                     False                      False          False   \n",
       "\n",
       "       numgrant_prev6 numgrant_prev7 numgrant_prev8 numgrant_prev9  \\\n",
       "0               False          False          False          False   \n",
       "1               False          False          False          False   \n",
       "2               False          False          False          False   \n",
       "3               False          False          False          False   \n",
       "4               False          False          False          False   \n",
       "5               False          False          False          False   \n",
       "6               False          False          False          False   \n",
       "7               False          False          False          False   \n",
       "8               False          False          False          False   \n",
       "9               False          False          False          False   \n",
       "10              False          False          False          False   \n",
       "11              False          False          False          False   \n",
       "12              False          False          False          False   \n",
       "13              False          False          False          False   \n",
       "14              False          False          False          False   \n",
       "15              False          False          False          False   \n",
       "16              False          False          False          False   \n",
       "17              False          False          False          False   \n",
       "18              False          False          False          False   \n",
       "19              False          False          False          False   \n",
       "20              False          False          False          False   \n",
       "21              False          False          False          False   \n",
       "22              False          False          False          False   \n",
       "23              False          False          False          False   \n",
       "24              False          False          False          False   \n",
       "25              False          False          False          False   \n",
       "26              False          False          False          False   \n",
       "27              False          False          False          False   \n",
       "28              False          False          False          False   \n",
       "29              False          False          False          False   \n",
       "...               ...            ...            ...            ...   \n",
       "501023          False          False          False          False   \n",
       "501024          False          False          False          False   \n",
       "501025          False          False          False          False   \n",
       "501026          False          False          False          False   \n",
       "501027          False          False          False          False   \n",
       "501028          False          False          False          False   \n",
       "501029          False          False          False          False   \n",
       "501030          False          False          False          False   \n",
       "501031          False          False          False          False   \n",
       "501032          False          False          False          False   \n",
       "501033          False          False          False          False   \n",
       "501034          False          False          False          False   \n",
       "501035          False          False          False          False   \n",
       "501036          False          False          False          False   \n",
       "501037          False          False          False          False   \n",
       "501038          False          False          False          False   \n",
       "501039          False          False          False          False   \n",
       "501040          False          False          False          False   \n",
       "501041          False          False          False          False   \n",
       "501042          False          False          False          False   \n",
       "501043          False          False          False          False   \n",
       "501044          False          False          False          False   \n",
       "501045          False          False          False          False   \n",
       "501046          False          False          False          False   \n",
       "501047          False          False          False          False   \n",
       "501048          False          False          False          False   \n",
       "501049          False          False          False          False   \n",
       "501050          False          False          False          False   \n",
       "501051          False          False          False          False   \n",
       "501052          False          False          False          False   \n",
       "\n",
       "       numgrant_prev10  \n",
       "0                False  \n",
       "1                False  \n",
       "2                False  \n",
       "3                False  \n",
       "4                False  \n",
       "5                False  \n",
       "6                False  \n",
       "7                False  \n",
       "8                False  \n",
       "9                False  \n",
       "10               False  \n",
       "11               False  \n",
       "12               False  \n",
       "13               False  \n",
       "14               False  \n",
       "15               False  \n",
       "16               False  \n",
       "17               False  \n",
       "18               False  \n",
       "19               False  \n",
       "20               False  \n",
       "21               False  \n",
       "22               False  \n",
       "23               False  \n",
       "24               False  \n",
       "25               False  \n",
       "26               False  \n",
       "27               False  \n",
       "28               False  \n",
       "29               False  \n",
       "...                ...  \n",
       "501023           False  \n",
       "501024           False  \n",
       "501025           False  \n",
       "501026           False  \n",
       "501027           False  \n",
       "501028           False  \n",
       "501029           False  \n",
       "501030           False  \n",
       "501031           False  \n",
       "501032           False  \n",
       "501033           False  \n",
       "501034           False  \n",
       "501035           False  \n",
       "501036           False  \n",
       "501037           False  \n",
       "501038           False  \n",
       "501039           False  \n",
       "501040           False  \n",
       "501041           False  \n",
       "501042           False  \n",
       "501043           False  \n",
       "501044           False  \n",
       "501045           False  \n",
       "501046           False  \n",
       "501047           False  \n",
       "501048           False  \n",
       "501049           False  \n",
       "501050           False  \n",
       "501051           False  \n",
       "501052           False  \n",
       "\n",
       "[501053 rows x 24 columns]"
      ]
     },
     "execution_count": 33,
     "metadata": {},
     "output_type": "execute_result"
    }
   ],
   "source": [
    "data6[missing_vars].isnull()"
   ]
  },
  {
   "cell_type": "code",
   "execution_count": 34,
   "metadata": {
    "collapsed": false
   },
   "outputs": [
    {
     "name": "stdout",
     "output_type": "stream",
     "text": [
      "501053\n",
      "445145\n"
     ]
    }
   ],
   "source": [
    "data_dropped = data4.dropna()\n",
    "print len(data4)\n",
    "print len(data_dropped)"
   ]
  },
  {
   "cell_type": "code",
   "execution_count": 35,
   "metadata": {
    "collapsed": false
   },
   "outputs": [
    {
     "name": "stdout",
     "output_type": "stream",
     "text": [
      "L2grant2    2423\n",
      "L1grant2     200\n",
      "dtype: int64\n"
     ]
    }
   ],
   "source": [
    "missing = np.sum(pd.isnull(data6))\n",
    "missing.sort(ascending=False)\n",
    "print missing[missing > 0]"
   ]
  },
  {
   "cell_type": "code",
   "execution_count": 36,
   "metadata": {
    "collapsed": true
   },
   "outputs": [],
   "source": [
    "data6.L1grant_sameday[(data4.orderwithindayraw > 1) & (data4.L1imputed == 1)] = 1\n",
    "data6.L2grant_sameday[(data4.orderwithindayraw > 2) & (data4.L2imputed == 1)] = 1"
   ]
  },
  {
   "cell_type": "code",
   "execution_count": 37,
   "metadata": {
    "collapsed": true
   },
   "outputs": [],
   "source": [
    "missing_vars = [\"L1grant2\", \"L2grant2\"]\n",
    "data6.L1imputed[data6.L1grant2.isnull()] = 1\n",
    "data6.L2imputed[data6.L2grant2.isnull()] = 1\n",
    "data4 = mi.fit_transform(data6[missing_vars])\n",
    "data_final = data6.copy()\n",
    "data_final[missing_vars] = data4"
   ]
  },
  {
   "cell_type": "code",
   "execution_count": 38,
   "metadata": {
    "collapsed": true
   },
   "outputs": [],
   "source": [
    "data_final.to_csv(\"refugee_data_post_processing.csv\", index = False)"
   ]
  },
  {
   "cell_type": "code",
   "execution_count": 39,
   "metadata": {
    "collapsed": false
   },
   "outputs": [
    {
     "data": {
      "text/plain": [
       "0"
      ]
     },
     "execution_count": 39,
     "metadata": {},
     "output_type": "execute_result"
    }
   ],
   "source": [
    "missing = np.sum(pd.isnull(data_final))\n",
    "missing.sort(ascending=False)\n",
    "len(missing[missing > 0])"
   ]
  },
  {
   "cell_type": "code",
   "execution_count": 40,
   "metadata": {
    "collapsed": false
   },
   "outputs": [
    {
     "data": {
      "text/plain": [
       "491"
      ]
     },
     "execution_count": 40,
     "metadata": {},
     "output_type": "execute_result"
    }
   ],
   "source": [
    "len(data_final.columns)"
   ]
  },
  {
   "cell_type": "code",
   "execution_count": 41,
   "metadata": {
    "collapsed": false
   },
   "outputs": [
    {
     "data": {
      "text/plain": [
       "True"
      ]
     },
     "execution_count": 41,
     "metadata": {},
     "output_type": "execute_result"
    }
   ],
   "source": [
    "# Let's make sure that the number of columns is less than the square root of n where n is the size of our training set\n",
    "len(data_final.columns) < np.sqrt(len(data_final) * .80)"
   ]
  },
  {
   "cell_type": "code",
   "execution_count": 42,
   "metadata": {
    "collapsed": false
   },
   "outputs": [
    {
     "data": {
      "text/plain": [
       "True"
      ]
     },
     "execution_count": 42,
     "metadata": {},
     "output_type": "execute_result"
    }
   ],
   "source": [
    "# Let's make sure that the number of columns is less than the square root of n where n is the size of our training set\n",
    "len(data_dropped.columns) < np.sqrt(len(data_dropped) * .80)"
   ]
  },
  {
   "cell_type": "code",
   "execution_count": 43,
   "metadata": {
    "collapsed": true
   },
   "outputs": [],
   "source": [
    "data_dropped.L1grant_sameday[(data_dropped.orderwithindayraw > 1) & (data_dropped.L1imputed == 1)] = 1\n",
    "data_dropped.L2grant_sameday[(data_dropped.orderwithindayraw > 2) & (data_dropped.L2imputed == 1)] = 1"
   ]
  },
  {
   "cell_type": "code",
   "execution_count": 44,
   "metadata": {
    "collapsed": true
   },
   "outputs": [],
   "source": [
    "data_dropped.to_csv(\"refugee_data_with_missing_time_dropped.csv\", index = False)"
   ]
  },
  {
   "cell_type": "code",
   "execution_count": 45,
   "metadata": {
    "collapsed": false
   },
   "outputs": [],
   "source": [
    "data_final[\"no_time_missing\"] = [i in data_dropped.index for i in data_final.index]"
   ]
  },
  {
   "cell_type": "code",
   "execution_count": 46,
   "metadata": {
    "collapsed": false
   },
   "outputs": [],
   "source": [
    "data_final.no_time_missing = 1.0 * data_final.no_time_missing"
   ]
  },
  {
   "cell_type": "code",
   "execution_count": 47,
   "metadata": {
    "collapsed": false
   },
   "outputs": [
    {
     "data": {
      "text/plain": [
       "445145.0"
      ]
     },
     "execution_count": 47,
     "metadata": {},
     "output_type": "execute_result"
    }
   ],
   "source": [
    "sum(data_final.no_time_missing)"
   ]
  },
  {
   "cell_type": "code",
   "execution_count": 48,
   "metadata": {
    "collapsed": true
   },
   "outputs": [],
   "source": [
    "data_final.to_csv(\"refugee_data_post_processing_v2.csv\", index = False)"
   ]
  },
  {
   "cell_type": "code",
   "execution_count": 49,
   "metadata": {
    "collapsed": false
   },
   "outputs": [
    {
     "data": {
      "text/plain": [
       "(445145, 491)"
      ]
     },
     "execution_count": 49,
     "metadata": {},
     "output_type": "execute_result"
    }
   ],
   "source": [
    "data_dropped.shape"
   ]
  },
  {
   "cell_type": "code",
   "execution_count": 50,
   "metadata": {
    "collapsed": false
   },
   "outputs": [
    {
     "data": {
      "text/plain": [
       "(501053, 492)"
      ]
     },
     "execution_count": 50,
     "metadata": {},
     "output_type": "execute_result"
    }
   ],
   "source": [
    "data_final.shape"
   ]
  },
  {
   "cell_type": "code",
   "execution_count": 1,
   "metadata": {
    "collapsed": false
   },
   "outputs": [
    {
     "name": "stdout",
     "output_type": "stream",
     "text": [
      "judge AA complete\n"
     ]
    }
   ],
   "source": [
    "judge = \"AA\"\n",
    "print(\"judge \" + judge + \" complete\")"
   ]
  },
  {
   "cell_type": "code",
   "execution_count": 112,
   "metadata": {
    "collapsed": true
   },
   "outputs": [],
   "source": [
    "data = pd.read_csv(\"refugee_data_post_processing_v2.csv\")"
   ]
  },
  {
   "cell_type": "code",
   "execution_count": 122,
   "metadata": {
    "collapsed": false
   },
   "outputs": [
    {
     "data": {
      "text/plain": [
       "(501053, 424)"
      ]
     },
     "execution_count": 122,
     "metadata": {},
     "output_type": "execute_result"
    }
   ],
   "source": [
    "data_baseline.shape"
   ]
  },
  {
   "cell_type": "code",
   "execution_count": 114,
   "metadata": {
    "collapsed": true
   },
   "outputs": [],
   "source": [
    "data_baseline = data.copy()"
   ]
  },
  {
   "cell_type": "code",
   "execution_count": 116,
   "metadata": {
    "collapsed": false
   },
   "outputs": [
    {
     "data": {
      "text/plain": [
       "Index([u'Percent_Christian', u'Percent_Muslim', u'Percent_Unaffiliated', u'Percent_Hindu', u'Percent_Buddhist', u'Percent_Jewish', u'World_High_income_OECD', u'World_High_income_nonOECD', u'World_Low_income', u'World_Lower_middle_income', u'World_Upper_middle_income', u'World_nan', u'Subregion_Antarctica', u'Subregion_Australia_and NewZealand', u'Subregion_Caribbean', u'Subregion_Central_Asia', u'Subregion_Central_Europe', u'Subregion_Eastern_Africa', u'Subregion_Eastern_Asia', u'Subregion_Eastern_Europe', u'Subregion_Melanesia', u'Subregion_Mexico_and_Central_America', u'Subregion_Micronesia', u'Subregion_Middle_Africa', u'Subregion_North_Africa', u'Subregion_Northern_America', u'Subregion_Northern_Europe', u'Subregion_Polynesia', u'Subregion_South_America', u'Subregion_Southeastern_Asia', u'Subregion_Southeastern_Europe', u'Subregion_Southern_Africa', u'Subregion_Southern_Asia', u'Subregion_Southern_Europe', u'Subregion_The_Middle_East', u'Subregion_Western_Africa', u'Subregion_Western_Asia', u'Subregion_Western_Europe', u'Subregion_nan', u'Region_Antarctica', u'Region_Asia_and_the_Pacific', u'Region_Europe', u'Region_Latin_America_and_the_Caribbean', u'Region_Northern_America', u'Region_Sub-Saharan_Africa', u'Region_The_Middle_East_and_North_Africa', u'Region_nan'], dtype='object')"
      ]
     },
     "execution_count": 116,
     "metadata": {},
     "output_type": "execute_result"
    }
   ],
   "source": [
    "countries.columns"
   ]
  },
  {
   "cell_type": "code",
   "execution_count": 121,
   "metadata": {
    "collapsed": true
   },
   "outputs": [],
   "source": [
    "data_baseline.drop(averages, axis=1, inplace=True)"
   ]
  },
  {
   "cell_type": "code",
   "execution_count": 131,
   "metadata": {
    "collapsed": false
   },
   "outputs": [
    {
     "data": {
      "text/plain": [
       "(501053, 424)"
      ]
     },
     "execution_count": 131,
     "metadata": {},
     "output_type": "execute_result"
    }
   ],
   "source": [
    "data_baseline.shape"
   ]
  },
  {
   "cell_type": "code",
   "execution_count": 125,
   "metadata": {
    "collapsed": false
   },
   "outputs": [],
   "source": [
    "baseline = linear_model.LogisticRegression(penalty='l2')"
   ]
  },
  {
   "cell_type": "code",
   "execution_count": 124,
   "metadata": {
    "collapsed": true
   },
   "outputs": [],
   "source": [
    "from sklearn import linear_model"
   ]
  },
  {
   "cell_type": "code",
   "execution_count": 133,
   "metadata": {
    "collapsed": false
   },
   "outputs": [],
   "source": [
    "data_baseline.to_csv(\"baseline.csv\", index=False)"
   ]
  },
  {
   "cell_type": "code",
   "execution_count": 140,
   "metadata": {
    "collapsed": false
   },
   "outputs": [],
   "source": [
    "train = pd.read_csv(\"baseline_train.csv\")\n",
    "test = pd.read_csv(\"baseline_test.csv\")"
   ]
  },
  {
   "cell_type": "code",
   "execution_count": 139,
   "metadata": {
    "collapsed": false
   },
   "outputs": [],
   "source": [
    "split_train_test(\"baseline_train.csv\", \"baseline_test.csv\", \"baseline.csv\")"
   ]
  },
  {
   "cell_type": "code",
   "execution_count": 138,
   "metadata": {
    "collapsed": true
   },
   "outputs": [],
   "source": [
    "def split_train_test(train_out_loc, test_out_loc, processed_code_file,\n",
    "                     judge_code_file = 'asylum_clean_chicago_eoirstrictconsec3_1.csv',\n",
    "                     train_percentage = .80, rnd_seed = 4850):\n",
    "\n",
    "    raw_data = pd.read_csv(processed_code_file)\n",
    "    judge_code_data = pd.read_csv(judge_code_file, low_memory=False)\n",
    "    random.seed(rnd_seed)\n",
    "    \n",
    "    train_size = int(train_percentage * len(raw_data))\n",
    "    judges = judge_code_data .groupby(\"ij_code\")\n",
    "    all_judges = list(judges.groups.keys())\n",
    "    np.random.shuffle(all_judges)\n",
    "    \n",
    "    train_length = 0\n",
    "    train_judges = []\n",
    "    train_cases = []\n",
    "    i = 0\n",
    "    while train_length < train_size :\n",
    "        judge = all_judges[i]\n",
    "        i += 1\n",
    "        size = len(judges.groups[judge])\n",
    "        if (size + train_length) > train_size:\n",
    "            break\n",
    "        train_judges.append(judge)\n",
    "        train_length += size\n",
    "        train_cases.extend(judges.groups[judge])\n",
    "    \n",
    "    test_cases = list(set(raw_data.index).difference(set(train_cases)))\n",
    "    train_data = raw_data.loc[train_cases]\n",
    "    test_data = raw_data.loc[test_cases]\n",
    "    \n",
    "    train_data.to_csv(train_out_loc, index = False)\n",
    "    test_data.to_csv(test_out_loc, index = False)"
   ]
  },
  {
   "cell_type": "code",
   "execution_count": 135,
   "metadata": {
    "collapsed": true
   },
   "outputs": [],
   "source": [
    "import random"
   ]
  },
  {
   "cell_type": "code",
   "execution_count": 143,
   "metadata": {
    "collapsed": true
   },
   "outputs": [],
   "source": [
    "train.replace(-1*np.inf, -1000., inplace=True)\n",
    "test.replace(-1*np.inf, -1000., inplace=True)"
   ]
  },
  {
   "cell_type": "code",
   "execution_count": 8,
   "metadata": {
    "collapsed": false
   },
   "outputs": [
    {
     "ename": "NameError",
     "evalue": "name 'baseline' is not defined",
     "output_type": "error",
     "traceback": [
      "\u001b[0;31m---------------------------------------------------------------------------\u001b[0m",
      "\u001b[0;31mNameError\u001b[0m                                 Traceback (most recent call last)",
      "\u001b[0;32m<ipython-input-8-0c443121b37b>\u001b[0m in \u001b[0;36m<module>\u001b[0;34m()\u001b[0m\n\u001b[0;32m----> 1\u001b[0;31m \u001b[0mbaseline\u001b[0m\u001b[0;34m.\u001b[0m\u001b[0mfit\u001b[0m\u001b[0;34m(\u001b[0m\u001b[0mtrain\u001b[0m\u001b[0;34m.\u001b[0m\u001b[0mdrop\u001b[0m\u001b[0;34m(\u001b[0m\u001b[0;34m\"grantraw\"\u001b[0m\u001b[0;34m,\u001b[0m \u001b[0maxis\u001b[0m\u001b[0;34m=\u001b[0m\u001b[0;36m1\u001b[0m\u001b[0;34m)\u001b[0m\u001b[0;34m,\u001b[0m \u001b[0mtrain\u001b[0m\u001b[0;34m[\u001b[0m\u001b[0;34m\"grantraw\"\u001b[0m\u001b[0;34m]\u001b[0m\u001b[0;34m)\u001b[0m\u001b[0;34m\u001b[0m\u001b[0m\n\u001b[0m",
      "\u001b[0;31mNameError\u001b[0m: name 'baseline' is not defined"
     ]
    }
   ],
   "source": [
    "baseline.fit(train.drop(\"grantraw\", axis=1), train[\"grantraw\"])"
   ]
  },
  {
   "cell_type": "code",
   "execution_count": 9,
   "metadata": {
    "collapsed": true
   },
   "outputs": [],
   "source": [
    "train = pd.read_csv(\"baseline_train.csv\")\n",
    "test = pd.read_csv(\"baseline_test.csv\")"
   ]
  },
  {
   "cell_type": "code",
   "execution_count": 12,
   "metadata": {
    "collapsed": false
   },
   "outputs": [
    {
     "data": {
      "text/plain": [
       "328"
      ]
     },
     "execution_count": 12,
     "metadata": {},
     "output_type": "execute_result"
    }
   ],
   "source": [
    "len(pd.unique(raw_data[\"ij_code\"][train.index]))"
   ]
  },
  {
   "cell_type": "code",
   "execution_count": null,
   "metadata": {
    "collapsed": true
   },
   "outputs": [],
   "source": []
  }
 ],
 "metadata": {
  "kernelspec": {
   "display_name": "Python 2",
   "language": "python",
   "name": "python2"
  },
  "language_info": {
   "codemirror_mode": {
    "name": "ipython",
    "version": 2
   },
   "file_extension": ".py",
   "mimetype": "text/x-python",
   "name": "python",
   "nbconvert_exporter": "python",
   "pygments_lexer": "ipython2",
   "version": "2.7.9"
  }
 },
 "nbformat": 4,
 "nbformat_minor": 0
}
